{
 "cells": [
  {
   "cell_type": "markdown",
   "id": "c4f8441a-1c24-458d-9de2-0efa17b8ab8b",
   "metadata": {
    "id": "2c4f1c51-1948-4fd3-af0f-34faefe9d27c",
    "tags": []
   },
   "source": [
    "# A multi-compartmental model of a pyramidal neuron\n",
    "\n",
    " "
   ]
  },
  {
   "cell_type": "markdown",
   "id": "da260142-dfda-4f28-9b2f-a15c51f1d0dd",
   "metadata": {
    "id": "91daf3d3-3137-4fdb-a3b1-9736f4496245"
   },
   "source": [
    "## Step 1: Setup"
   ]
  },
  {
   "cell_type": "code",
   "execution_count": null,
   "id": "dc61da57-21ce-4ca0-b59b-5ea8acfe9d45",
   "metadata": {
    "id": "3f76960c-f05d-4c5d-bd70-88b79cb16cea"
   },
   "outputs": [],
   "source": [
    "# Setup inline plotting\n",
    "#%matplotlib widget\n",
    "%matplotlib inline\n",
    "import matplotlib.pyplot as plt\n",
    "#import matplotlib\n",
    "#matplotlib.rcParams['path.simplify'] = False"
   ]
  },
  {
   "cell_type": "code",
   "execution_count": null,
   "id": "3b1e221b-266a-4df2-a8ac-dcdc2696e6e0",
   "metadata": {
    "colab": {
     "base_uri": "https://localhost:8080/"
    },
    "id": "acdff546-3746-40aa-95f7-e21c4bd66a93",
    "outputId": "4a06ae51-ff84-4a9e-b7a4-3c57ed109d59"
   },
   "outputs": [],
   "source": [
    "# For Google Colab, this line installs NEURON\n",
    "!pip install neuron quantities neurom "
   ]
  },
  {
   "cell_type": "code",
   "execution_count": null,
   "id": "8baefb66-56bb-41eb-a698-188648941ac4",
   "metadata": {
    "id": "eb5e73d4-622b-46d7-be45-8e7e655ed086"
   },
   "outputs": [],
   "source": [
    "# We will let this library handle unit conversion for us\n",
    "import quantities as pq\n",
    "from quantities import um, nS, mV, cm, ms, nA, S, uF, Hz, degrees, s, MOhm, mS, mm, Ohm"
   ]
  },
  {
   "cell_type": "code",
   "execution_count": null,
   "id": "7d8fc4d5-099c-4dea-83ff-e13a0f8b5d22",
   "metadata": {
    "colab": {
     "base_uri": "https://localhost:8080/"
    },
    "id": "35b8535f-89d4-4304-8bd1-9e0cd76eec37",
    "outputId": "7c926f1f-835d-442a-9538-dbb1a81251fc"
   },
   "outputs": [],
   "source": [
    "# Import and initialize NEURON\n",
    "import neuron\n",
    "from neuron import h\n",
    "h.load_file(\"stdrun.hoc\")\n",
    "h.load_file(\"import3d.hoc\")\n",
    "#h.load_file(\"stdlib.hoc\") # need geom_nseg"
   ]
  },
  {
   "cell_type": "code",
   "execution_count": null,
   "id": "6be032d4-2cd3-4ef3-9986-4f87754edb9d",
   "metadata": {
    "id": "a6acb16b-5ad6-4a7a-865c-bf5360462cad"
   },
   "outputs": [],
   "source": [
    "# Import other modules we need\n",
    "import numpy as np\n",
    "from tqdm import tqdm\n",
    "import time"
   ]
  },
  {
   "cell_type": "code",
   "execution_count": null,
   "id": "c9367c25-0875-4828-870f-313a57cb2dc8",
   "metadata": {},
   "outputs": [],
   "source": [
    "import neurom as nm"
   ]
  },
  {
   "cell_type": "code",
   "execution_count": null,
   "id": "afaf4f0d-41de-4548-80b1-5b3adbab6b34",
   "metadata": {},
   "outputs": [],
   "source": [
    "from neurom.view import matplotlib_impl, matplotlib_utils"
   ]
  },
  {
   "cell_type": "code",
   "execution_count": null,
   "id": "6c01f7a7-1ad2-4234-a4c7-499d44edeef3",
   "metadata": {},
   "outputs": [],
   "source": [
    "morph = nm.load_morphology('data/morphology.asc')"
   ]
  },
  {
   "cell_type": "code",
   "execution_count": null,
   "id": "389beb8b-11c0-44d1-83d9-bce516bd15c9",
   "metadata": {},
   "outputs": [],
   "source": [
    "# instead of: viewer.draw(m)\n",
    "matplotlib_impl.plot_morph(morph)\n",
    "plt.xlabel(r\"x ($\\rm{\\mu m}$)\") \n",
    "plt.ylabel(r\"y ($\\rm{\\mu m}$)\") "
   ]
  },
  {
   "cell_type": "code",
   "execution_count": null,
   "id": "34560abf-d311-4830-95b9-f81430c8831e",
   "metadata": {},
   "outputs": [],
   "source": [
    "# instead of: viewer.draw(m, mode='3d')\n",
    "#matplotlib_impl.plot_morph3d(morph)"
   ]
  },
  {
   "cell_type": "code",
   "execution_count": null,
   "id": "adebe470-4af6-4768-a7c3-25a03564dd38",
   "metadata": {},
   "outputs": [],
   "source": [
    "# instead of: viewer.draw(m, mode='dendrogram')\n",
    "matplotlib_impl.plot_dendrogram(morph)"
   ]
  },
  {
   "cell_type": "markdown",
   "id": "07a468c7-9525-4acf-a8ab-9849a4312cea",
   "metadata": {
    "id": "f83f6d94-1a9c-43f2-a983-11149d24d17a"
   },
   "source": [
    "## Step 2: Define the circuit\n"
   ]
  },
  {
   "cell_type": "code",
   "execution_count": null,
   "id": "07db87b7-2f01-4176-8052-a052151f08ef",
   "metadata": {},
   "outputs": [],
   "source": [
    "# constants\n",
    "h.dt = 0.025\n",
    "h.celsius = 34"
   ]
  },
  {
   "cell_type": "code",
   "execution_count": null,
   "id": "379ed374-45bc-4602-b700-6c074010e563",
   "metadata": {},
   "outputs": [],
   "source": [
    "def rerun_sim(tstop, tskip=0, v_init=-84.0, viz=False, steps=50, framerate=None):\n",
    "    if framerate:\n",
    "        dt = 1.0/framerate\n",
    "    else:\n",
    "        dt = None\n",
    "    h.finitialize( float(v_init) )\n",
    "    h.continuerun( float(tskip * ms) )\n",
    "    for t in tqdm(np.linspace(tskip,tstop,steps)):\n",
    "        t1 = time.time()\n",
    "        h.continuerun( float(t * ms) )\n",
    "        if viz==True:\n",
    "            sp.flush()\n",
    "        t2 = time.time()\n",
    "        if dt:\n",
    "            wait = dt-(t2-t1)\n",
    "            if wait > 0:\n",
    "                time.sleep(wait)"
   ]
  },
  {
   "cell_type": "code",
   "execution_count": null,
   "id": "2045923d-d381-45f3-9173-51582ef42af4",
   "metadata": {},
   "outputs": [],
   "source": [
    "class MyCell:\n",
    "    def __init__(self):\n",
    "        \"\"\" Create the neuron, load the morphology, replace the axon with a stub, \n",
    "        configure nseg for each compartment\n",
    "        \"\"\"\n",
    "        # This idiom below imports the morphology file and instaniates it as h.Sections\n",
    "        morph_reader = h.Import3d_Neurolucida3()\n",
    "        morph_reader.input('data/morphology.asc')\n",
    "        i3d = h.Import3d_GUI(morph_reader, 0)\n",
    "        i3d.instantiate(self)\n",
    "        \n",
    "        self.replace_axon()\n",
    "        self.geom_nseg()\n",
    "        self.check_diameters()\n",
    "        \n",
    "        # Alias for readability \n",
    "        self.basal = self.dend\n",
    "        self.apical = self.apic\n",
    "        self.axonal = self.axon\n",
    "        \n",
    "    def geom_nseg(self):\n",
    "        \"\"\" Setup the nseg parameter for all sections\n",
    "        Results in about 2 compartments per 40um\n",
    "        \"\"\"\n",
    "        for sec in self.soma[0].wholetree():\n",
    "            sec.nseg = int((sec.L/(0.1*h.lambda_f(2500))+.9)/2)*2 + 1\n",
    "            #sec.nseg = int(sec.L/40)*2 + 1\n",
    "    \n",
    "    def check_diameters(self):\n",
    "        \"\"\" Check there are no small diameter sections\"\"\"\n",
    "        for sec in self.dend:\n",
    "            if sec.diam<0.001:\n",
    "                raise ValueError(\"diam=%f at section '%s'\" % (sec.diam, sec.name()))\n",
    "        \n",
    "        for sec in self.apic:\n",
    "            if sec.diam<0.001:\n",
    "                raise ValueError(\"diam=%f at section '%s'\" % (sec.diam, sec.name()))                    \n",
    "    \n",
    "    def replace_axon(self):\n",
    "        \"\"\" We will not simulate the axon, \n",
    "        so this function deletes it and replaces it with a stub with same diameter \"\"\"\n",
    "        # Find the axonal section that connects to the soma\n",
    "        axon_root = [x for x in self.soma[0].children() if x in self.axon]\n",
    "        # There should be only one for this morphology\n",
    "        assert len(axon_root)==1\n",
    "        axon_root = axon_root[0]\n",
    "        \n",
    "        # Get diameter\n",
    "        d = axon_root(0.0).diam\n",
    "        \n",
    "        # Delete all axon sections\n",
    "        for sec in self.axon:\n",
    "            h.delete_section(sec=sec)\n",
    "        \n",
    "        # Create new axon\n",
    "        axon = h.Section()\n",
    "        self.axon = [axon]\n",
    "        axon.L = 60                                                              \n",
    "        axon.diam = d   \n",
    "        \n",
    "        # Connect it to the some\n",
    "        axon.connect(self.soma[0](1.0),0.0)\n",
    "        "
   ]
  },
  {
   "cell_type": "code",
   "execution_count": null,
   "id": "df7f0f60-dc8a-424d-ad57-a6c9258d0308",
   "metadata": {},
   "outputs": [],
   "source": [
    "m = MyCell()"
   ]
  },
  {
   "cell_type": "code",
   "execution_count": null,
   "id": "ea4de65b-b6e1-4ccd-90e3-21c000d35505",
   "metadata": {},
   "outputs": [],
   "source": [
    "print('%d apic sections' % len(m.apic))\n",
    "print('%d basal sections' % len(m.dend))\n",
    "print('%d somatic sections' % len(m.soma))\n",
    "print('%d axonal sections' % len(m.axon))"
   ]
  },
  {
   "cell_type": "code",
   "execution_count": null,
   "id": "f0880a4e-12e8-45f3-8cac-eac40a76ab2f",
   "metadata": {},
   "outputs": [],
   "source": [
    "# An alias for the soma\n",
    "soma = m.soma[0]"
   ]
  },
  {
   "cell_type": "markdown",
   "id": "b289e23f-caac-4233-ab9d-369fd6fd38c0",
   "metadata": {},
   "source": [
    "#### Count the number of sections and segments"
   ]
  },
  {
   "cell_type": "code",
   "execution_count": null,
   "id": "850ccffd-0e92-4893-83b9-028064cea025",
   "metadata": {},
   "outputs": [],
   "source": [
    "num_segments = sum([d.nseg for d in soma.wholetree()])"
   ]
  },
  {
   "cell_type": "code",
   "execution_count": null,
   "id": "7d702c43-b6b7-49a1-ba5c-969e6c7173e5",
   "metadata": {},
   "outputs": [],
   "source": [
    "num_segments"
   ]
  },
  {
   "cell_type": "code",
   "execution_count": null,
   "id": "5a11688e-3176-4085-8a40-e019187ac7a4",
   "metadata": {},
   "outputs": [],
   "source": [
    "num_sections =0\n",
    "for sec in soma.wholetree():\n",
    "    num_sections+=1"
   ]
  },
  {
   "cell_type": "code",
   "execution_count": null,
   "id": "3db84522-7490-4d77-aa5c-e1c7c17f4a8c",
   "metadata": {},
   "outputs": [],
   "source": [
    "num_sections  "
   ]
  },
  {
   "cell_type": "markdown",
   "id": "3fc45ea3-74d6-425a-8330-3be21b63e9d7",
   "metadata": {},
   "source": [
    "#### Visualize the neuron within NEURON!"
   ]
  },
  {
   "cell_type": "code",
   "execution_count": null,
   "id": "f2afab25-5b22-4d3d-8e75-e71d875e3850",
   "metadata": {},
   "outputs": [],
   "source": [
    "# Only works if Jupyter & NEURON are running locally, I imagine.\n",
    "#from neuron import gui\n",
    "\n",
    "sp = h.PlotShape()\n"
   ]
  },
  {
   "cell_type": "code",
   "execution_count": null,
   "id": "bed02b48-4fae-44df-a7fd-083ed251119b",
   "metadata": {},
   "outputs": [],
   "source": [
    "sp.show(1)\n",
    "sp.show(0)  # show diameters"
   ]
  },
  {
   "cell_type": "markdown",
   "id": "811707db-535b-4624-bdc0-28538e55617d",
   "metadata": {
    "id": "4cb84590-4966-45f1-842c-a8c19ac215fe"
   },
   "source": [
    "### Query NEURON for soma.L, soma.diam, area and volume"
   ]
  },
  {
   "cell_type": "code",
   "execution_count": null,
   "id": "093d4652-94ad-420a-82e0-64f020fefa36",
   "metadata": {},
   "outputs": [],
   "source": [
    "soma.L, soma.diam"
   ]
  },
  {
   "cell_type": "code",
   "execution_count": null,
   "id": "a6bc6630-de67-4511-b035-009e76fbbbcc",
   "metadata": {
    "id": "3c083424-9925-4bdf-8682-c1679d5a0351"
   },
   "outputs": [],
   "source": [
    "volume = soma(0.5).volume() * um**3"
   ]
  },
  {
   "cell_type": "code",
   "execution_count": null,
   "id": "23c9c94b-c5e5-4a9a-a651-2ee7a5126d0b",
   "metadata": {
    "id": "b6f6bebf-b533-4e29-9c42-35bd34a09613"
   },
   "outputs": [],
   "source": [
    "area = soma(0.5).area() * um**2"
   ]
  },
  {
   "cell_type": "code",
   "execution_count": null,
   "id": "9f3332fd-79fc-4f6e-9c96-6908cadde6d5",
   "metadata": {},
   "outputs": [],
   "source": [
    "area"
   ]
  },
  {
   "cell_type": "code",
   "execution_count": null,
   "id": "7cd128e4-7c51-49b0-8d80-41600bc78a91",
   "metadata": {},
   "outputs": [],
   "source": [
    "volume"
   ]
  },
  {
   "cell_type": "markdown",
   "id": "724cafca-0a7e-4c10-9eb3-3a3cb07fab5d",
   "metadata": {
    "id": "5261a118-5c4f-4ed0-aa47-29567c762a0a"
   },
   "source": [
    "### Assign the membrane capacitance, resistivity and passive properties \"everywhere\" "
   ]
  },
  {
   "cell_type": "code",
   "execution_count": null,
   "id": "729fa23c-0f14-4bcb-a9e0-a921d015cc78",
   "metadata": {
    "colab": {
     "base_uri": "https://localhost:8080/",
     "height": 36
    },
    "id": "942d3d8d-2df4-497a-a13b-488ac2215f2b",
    "outputId": "f2e2b485-d34f-4c68-d5a2-a16e506c7749"
   },
   "outputs": [],
   "source": [
    "h.units(\"cm\")  # Query the expected units"
   ]
  },
  {
   "cell_type": "code",
   "execution_count": null,
   "id": "bbeaf248-cc49-44a4-adc8-4a37b5068751",
   "metadata": {},
   "outputs": [],
   "source": [
    "h.units(\"Ra\")"
   ]
  },
  {
   "cell_type": "code",
   "execution_count": null,
   "id": "63c84250-3e73-4b4c-9038-f2489d74a94b",
   "metadata": {},
   "outputs": [],
   "source": [
    "specific_membrane_capacitance = 1 * uF/cm**2"
   ]
  },
  {
   "cell_type": "code",
   "execution_count": null,
   "id": "62877101-37e7-4356-8ef0-7994689efbe3",
   "metadata": {
    "id": "e1234740-c1da-4d86-8381-235aa41080dc"
   },
   "outputs": [],
   "source": [
    "# This will look over sections in the whole tree (axons, dendrites, apical dendrites) connected/attached to the soma \n",
    "for sec in soma.wholetree():\n",
    "    sec.insert(\"pas\")\n",
    "    sec.e_pas = -75.0\n",
    "    sec.g_pas = 3e-5\n",
    "    sec.cm = specific_membrane_capacitance #  specific membrane capacitance (micro Farads / cm^2)\n",
    "    sec.Ra = 100 * Ohm*cm # resistivity "
   ]
  },
  {
   "cell_type": "code",
   "execution_count": null,
   "id": "f5204750-a219-4b9a-b322-508d2ff96e61",
   "metadata": {},
   "outputs": [],
   "source": [
    "# This is to compendate for spines (which we don't model explicitly, but effect capacitance considerably)\n",
    "for sec in m.basal+m.apical:\n",
    "    sec.cm = 2"
   ]
  },
  {
   "cell_type": "markdown",
   "id": "d222ee70-ac9e-4dc0-b66b-494397734f46",
   "metadata": {
    "tags": []
   },
   "source": [
    "### Assign the channels in the various regions of the neuron"
   ]
  },
  {
   "cell_type": "code",
   "execution_count": null,
   "id": "bfb0171a-d8a7-4ca8-9ac5-fa7b9175fcea",
   "metadata": {},
   "outputs": [],
   "source": [
    "for sec in m.basal+m.apical+m.soma:\n",
    "    sec.insert(\"Ih\")"
   ]
  },
  {
   "cell_type": "code",
   "execution_count": null,
   "id": "896d74b0-9081-4d1b-a613-5d42a31a6f74",
   "metadata": {},
   "outputs": [],
   "source": [
    "# Na and K channels\n",
    "for sec in m.apical:\n",
    "    sec.insert(\"Im\")\n",
    "\n",
    "for sec in m.soma+m.apical:\n",
    "    sec.insert(\"NaTs2_t\")\n",
    "    \n",
    "for sec in m.axonal:\n",
    "    sec.insert(\"Nap_Et2\")\n",
    "    sec.insert(\"K_Pst\")\n",
    "    sec.insert(\"K_Tst\")\n",
    "    sec.insert(\"NaTa_t\")\n",
    "    \n",
    "for sec in m.axonal+m.soma+m.apical:\n",
    "    sec.insert(\"SKv3_1\")       "
   ]
  },
  {
   "cell_type": "code",
   "execution_count": null,
   "id": "55e47b7d-8f64-43f2-a3a9-6955c4c5714d",
   "metadata": {},
   "outputs": [],
   "source": [
    "# Calcium and SK channels\n",
    "for sec in m.soma+m.axonal:\n",
    "    sec.insert(\"Ca_HVA\")\n",
    "    sec.insert(\"SK_E2\")\n",
    "    sec.insert(\"Ca_LVAst\")\n",
    "    sec.insert(\"CaDynamics_E2\")   "
   ]
  },
  {
   "cell_type": "markdown",
   "id": "e55fe4c6-7f5f-487b-92a6-a4c096cb5b35",
   "metadata": {},
   "source": [
    "### Parameterize the channel conductances\n",
    "Note, these values come from an external data-driven optimization process to fit neuronal firing features to experimental data <br>\n",
    "See: https://www.frontiersin.org/articles/10.3389/fninf.2016.00017/full"
   ]
  },
  {
   "cell_type": "markdown",
   "id": "41f8c72c-0e64-4efc-9f29-8e2d964df5bf",
   "metadata": {},
   "source": [
    "#### Define and apply an exponential distribution of Ih channel conductances in the apical dendrite"
   ]
  },
  {
   "cell_type": "code",
   "execution_count": null,
   "id": "609a21d9-1961-4a43-a372-2f205513f6e8",
   "metadata": {},
   "outputs": [],
   "source": [
    "def distribute_Ih(x):\n",
    "    \"\"\"Spatial specific conductance distribution of Ih channels\n",
    "    x (in um) is the path distance distance to the soma\n",
    "    \"\"\"\n",
    "    from math import exp\n",
    "    return 6.9568e-5*(2.4*exp(x*0.003100) - 1)"
   ]
  },
  {
   "cell_type": "code",
   "execution_count": null,
   "id": "5d3af0c5-a7f8-401a-8842-3c17a34a5784",
   "metadata": {},
   "outputs": [],
   "source": [
    "for sec in m.apical:\n",
    "    for seg in sec:\n",
    "        x = h.distance(soma(0.0),seg)\n",
    "        seg.gIhbar_Ih = distribute_Ih(x)"
   ]
  },
  {
   "cell_type": "markdown",
   "id": "72e59a4e-c519-48ef-8ccf-3762c541ea1d",
   "metadata": {},
   "source": [
    "#### All other channels have constant conductances"
   ]
  },
  {
   "cell_type": "code",
   "execution_count": null,
   "id": "015816ac-07f8-456a-acd4-cd79edc2c652",
   "metadata": {},
   "outputs": [],
   "source": [
    "for sec in m.basal+m.soma:\n",
    "    sec.gIhbar_Ih = 8e-5"
   ]
  },
  {
   "cell_type": "code",
   "execution_count": null,
   "id": "80fcdfea-bf2e-4ec4-b5db-62ba1e5fe33a",
   "metadata": {},
   "outputs": [],
   "source": [
    "for sec in m.apical:\n",
    "    sec.gNaTs2_tbar_NaTs2_t = 0.026145\n",
    "    sec.gSKv3_1bar_SKv3_1 = 0.004226\n",
    "    sec.gImbar_Im = 0.000143"
   ]
  },
  {
   "cell_type": "code",
   "execution_count": null,
   "id": "124309f7-0039-4252-a4c9-3e14377cf2fe",
   "metadata": {},
   "outputs": [],
   "source": [
    "for sec in m.axonal:\n",
    "    sec.gNaTa_tbar_NaTa_t = 3.137968\n",
    "    sec.gK_Tstbar_K_Tst = 0.089259\n",
    "    sec.gamma_CaDynamics_E2 = 0.002910\n",
    "    sec.gNap_Et2bar_Nap_Et2 = 0.006827\n",
    "    sec.gSK_E2bar_SK_E2 = 0.007104\n",
    "    sec.gCa_HVAbar_Ca_HVA = 0.000990\n",
    "    sec.gK_Pstbar_K_Pst = 0.973538\n",
    "    sec.gSKv3_1bar_SKv3_1 = 1.021945\n",
    "    sec.decay_CaDynamics_E2 = 287.198731\n",
    "    sec.gCa_LVAstbar_Ca_LVAst = 0.008752"
   ]
  },
  {
   "cell_type": "code",
   "execution_count": null,
   "id": "81e22f91-662e-4315-a350-8cdeea1bc737",
   "metadata": {},
   "outputs": [],
   "source": [
    "for sec in m.soma:\n",
    "    sec.gamma_CaDynamics_E2 = 0.000609\n",
    "    sec.gSKv3_1bar_SKv3_1 = 0.303472\n",
    "    sec.gSK_E2bar_SK_E2 = 0.008407\n",
    "    sec.gCa_HVAbar_Ca_HVA = 0.000994\n",
    "    sec.gNaTs2_tbar_NaTs2_t = 0.983955\n",
    "    sec.decay_CaDynamics_E2 = 210.485284\n",
    "    sec.gCa_LVAstbar_Ca_LVAst = 0.000333"
   ]
  },
  {
   "cell_type": "code",
   "execution_count": null,
   "id": "0bb54eb4-abfe-4d97-8a68-d1aa8de62149",
   "metadata": {},
   "outputs": [],
   "source": [
    "for sec in m.soma+m.apical+m.axon:\n",
    "    sec.ena = 50\n",
    "    sec.ek = -85"
   ]
  },
  {
   "cell_type": "markdown",
   "id": "553c8aca-933f-42d0-8a5b-c8e03cda9afc",
   "metadata": {
    "id": "b85903a3-ac74-437f-91d9-1f284800cdb2"
   },
   "source": [
    "### Add soma current pulse"
   ]
  },
  {
   "cell_type": "code",
   "execution_count": null,
   "id": "00a067c7-7b79-42d0-a736-5c80d9256cc4",
   "metadata": {},
   "outputs": [],
   "source": [
    "step_amp = [0.4299372, 0.4657653, 0.5015934]\n",
    "hyp_amp = -0.193481 "
   ]
  },
  {
   "cell_type": "code",
   "execution_count": null,
   "id": "0b81d064-a0db-4ff9-ab4d-29cd56e6ac84",
   "metadata": {
    "id": "ad8b318a-8299-4095-921c-07a2dc4f8683"
   },
   "outputs": [],
   "source": [
    "stim = h.IClamp(soma(0.5))"
   ]
  },
  {
   "cell_type": "code",
   "execution_count": null,
   "id": "a35d078f-d30a-409e-912e-a1ec2c7bdf89",
   "metadata": {},
   "outputs": [],
   "source": [
    "stim.delay = 500 * ms\n",
    "stim.dur = 1000 * ms\n",
    "stim.amp = step_amp[0]"
   ]
  },
  {
   "cell_type": "code",
   "execution_count": null,
   "id": "fa582a2b-da70-41f3-8bfb-860041af2093",
   "metadata": {},
   "outputs": [],
   "source": [
    "hyp_iclamp = h.IClamp(soma(0.5))"
   ]
  },
  {
   "cell_type": "code",
   "execution_count": null,
   "id": "b6474bb9-8de6-4ca0-97bf-e52f75fd0bf2",
   "metadata": {
    "id": "c8597eb8-3230-4acd-a6e8-d6f7044eecd0"
   },
   "outputs": [],
   "source": [
    "hyp_iclamp.delay = 0 * ms\n",
    "hyp_iclamp.dur = 5000 * ms  \n",
    "hyp_iclamp.amp = hyp_amp * nA"
   ]
  },
  {
   "cell_type": "markdown",
   "id": "df4be390-ba12-4afa-a952-b7dce052cd0c",
   "metadata": {
    "id": "559c8aaf-a94e-4fe6-bcba-bbb1ee619ce3"
   },
   "source": [
    "## Step 3: Run the simulation"
   ]
  },
  {
   "cell_type": "markdown",
   "id": "e284db38-3d43-4fcf-83c4-e07e2d1bb294",
   "metadata": {
    "id": "8ab8d065-2a5b-4564-878f-21e0911aec40"
   },
   "source": [
    "### Define recordings of simulation variables"
   ]
  },
  {
   "cell_type": "code",
   "execution_count": null,
   "id": "8eeedae1-f442-4e17-8f14-92110e45d4b6",
   "metadata": {
    "id": "3b38bec8-27dc-4e7c-9e92-fd130f2f2ac2"
   },
   "outputs": [],
   "source": [
    "rec_v = h.Vector().record(soma(0.5)._ref_v)\n",
    "rec_t = h.Vector().record(h._ref_t)"
   ]
  },
  {
   "cell_type": "code",
   "execution_count": null,
   "id": "d1baac3b-33a2-4624-adc6-1bf11d15a564",
   "metadata": {},
   "outputs": [],
   "source": [
    "rerun_sim(tstop=1500, tskip=500, viz=True, steps=1000, framerate=20)\n",
    "# For Shape plot viz"
   ]
  },
  {
   "cell_type": "code",
   "execution_count": null,
   "id": "3f5381a7-d9a6-4bc6-ae58-f3419f587ecd",
   "metadata": {},
   "outputs": [],
   "source": [
    "sp.color?"
   ]
  },
  {
   "cell_type": "code",
   "execution_count": null,
   "id": "18f14cf5-688a-4565-900f-bbab8fab8463",
   "metadata": {},
   "outputs": [],
   "source": [
    "#rerun_sim(tstop=2000, steps=1000)"
   ]
  },
  {
   "cell_type": "code",
   "execution_count": null,
   "id": "a05f426f-8cd6-46e8-8b75-c4f60c250c9a",
   "metadata": {
    "colab": {
     "base_uri": "https://localhost:8080/",
     "height": 328
    },
    "id": "cb056f27-2003-4121-ad42-102a3113d844",
    "outputId": "ee03cb22-343d-434a-b41f-f68819840294"
   },
   "outputs": [],
   "source": [
    "vs = []\n",
    "for amp in step_amp:\n",
    "    stim.amp = amp\n",
    "    rerun_sim(tstop=2000, steps=1000)\n",
    "    vs.append(np.array(rec_v))"
   ]
  },
  {
   "cell_type": "markdown",
   "id": "eb2e2cde-dca6-4974-b0ae-1ed626e289e7",
   "metadata": {
    "id": "3499dc95-65e2-4fef-8f7a-a93eb55765d2"
   },
   "source": [
    "## Step 4: Plot the results"
   ]
  },
  {
   "cell_type": "code",
   "execution_count": null,
   "id": "931defb6-5a52-4409-8510-971f84deb28c",
   "metadata": {},
   "outputs": [],
   "source": [
    "plt.figure()\n",
    "plt.plot(rec_t, vs[0], label=\"py version\")"
   ]
  },
  {
   "cell_type": "code",
   "execution_count": null,
   "id": "210a5e84-33c1-4e27-8f39-6cf073b3d150",
   "metadata": {},
   "outputs": [],
   "source": [
    "plt.figure()\n",
    "plt.plot(rec_t, vs[1], label=\"py version\")"
   ]
  },
  {
   "cell_type": "code",
   "execution_count": null,
   "id": "971d9160-b365-46eb-a67b-dcab63abfecb",
   "metadata": {},
   "outputs": [],
   "source": [
    "plt.figure()\n",
    "plt.plot(rec_t, vs[2], label=\"py version\")"
   ]
  },
  {
   "cell_type": "code",
   "execution_count": null,
   "id": "1a989ae0-9485-412f-95e8-ecb13ef7b1f7",
   "metadata": {},
   "outputs": [],
   "source": []
  }
 ],
 "metadata": {
  "kernelspec": {
   "display_name": "dev-09-2025-py312",
   "language": "python",
   "name": "python3"
  },
  "language_info": {
   "codemirror_mode": {
    "name": "ipython",
    "version": 3
   },
   "file_extension": ".py",
   "mimetype": "text/x-python",
   "name": "python",
   "nbconvert_exporter": "python",
   "pygments_lexer": "ipython3",
   "version": "3.12.11"
  }
 },
 "nbformat": 4,
 "nbformat_minor": 5
}
