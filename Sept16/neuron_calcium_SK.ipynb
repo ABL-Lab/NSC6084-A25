{
 "cells": [
  {
   "cell_type": "markdown",
   "id": "2c4f1c51-1948-4fd3-af0f-34faefe9d27c",
   "metadata": {
    "id": "2c4f1c51-1948-4fd3-af0f-34faefe9d27c",
    "tags": []
   },
   "source": [
    "# A neuron with calcium dynamics and spike-frequency adaptation due to a Ca2+-activated K+ channel\n",
    "\n",
    "**Calcium is good for you!**\n",
    "![image](https://media.istockphoto.com/photos/glass-of-milk-picture-id1206080627?k=20&m=1206080627&s=612x612&w=0&h=NfdmNI8WYa5Kd7zMCqpZ8hFkakQCWzkv9aD9r5yhdRw=)"
   ]
  },
  {
   "cell_type": "markdown",
   "id": "91daf3d3-3137-4fdb-a3b1-9736f4496245",
   "metadata": {
    "id": "91daf3d3-3137-4fdb-a3b1-9736f4496245"
   },
   "source": [
    "## Step 1: Setup"
   ]
  },
  {
   "cell_type": "code",
   "execution_count": null,
   "id": "3f76960c-f05d-4c5d-bd70-88b79cb16cea",
   "metadata": {
    "id": "3f76960c-f05d-4c5d-bd70-88b79cb16cea"
   },
   "outputs": [],
   "source": [
    "# Setup inline plotting\n",
    "%matplotlib inline\n",
    "import matplotlib.pyplot as plt"
   ]
  },
  {
   "cell_type": "code",
   "execution_count": null,
   "id": "acdff546-3746-40aa-95f7-e21c4bd66a93",
   "metadata": {
    "colab": {
     "base_uri": "https://localhost:8080/"
    },
    "id": "acdff546-3746-40aa-95f7-e21c4bd66a93",
    "outputId": "4a06ae51-ff84-4a9e-b7a4-3c57ed109d59"
   },
   "outputs": [],
   "source": [
    "# For Google Colab, this line installs NEURON\n",
    "!pip install neuron quantities"
   ]
  },
  {
   "cell_type": "code",
   "execution_count": null,
   "id": "2abaf990-9a83-45f5-af06-9bbee2b4b6f8",
   "metadata": {},
   "outputs": [],
   "source": [
    "# Fetch mechanisms\n",
    "# Uncomment this line if on google colab\n",
    "!git clone https://github.com/ABL-Lab/NSC6084-A24.git"
   ]
  },
  {
   "cell_type": "code",
   "execution_count": null,
   "id": "be33e4b0-ebdf-49d3-812a-8a41cf67e5cb",
   "metadata": {},
   "outputs": [],
   "source": [
    "# Compile the mechanisms\n",
    "# Note: recompiled mechanisms will not take effect until neuron is imported or the jupyter kernel is restarted\n",
    "\n",
    "# Uncomment this line if on google colab\n",
    "!nrnivmodl ./NSC6084-A24/Sept17/mechanisms\n",
    "# Uncomment this line if running locally\n",
    "#!nrnivmodl ./mechanisms"
   ]
  },
  {
   "cell_type": "code",
   "execution_count": null,
   "id": "eb5e73d4-622b-46d7-be45-8e7e655ed086",
   "metadata": {
    "id": "eb5e73d4-622b-46d7-be45-8e7e655ed086"
   },
   "outputs": [],
   "source": [
    "# We will let this library handle unit conversion for us\n",
    "import quantities as pq\n",
    "from quantities import um, nS, mV, cm, ms, nA, S, uF, Hz, degrees, s"
   ]
  },
  {
   "cell_type": "code",
   "execution_count": null,
   "id": "35b8535f-89d4-4304-8bd1-9e0cd76eec37",
   "metadata": {
    "colab": {
     "base_uri": "https://localhost:8080/"
    },
    "id": "35b8535f-89d4-4304-8bd1-9e0cd76eec37",
    "outputId": "7c926f1f-835d-442a-9538-dbb1a81251fc"
   },
   "outputs": [],
   "source": [
    "# Import and initialize NEURON\n",
    "import neuron\n",
    "from neuron import h\n",
    "h.load_file(\"stdrun.hoc\")"
   ]
  },
  {
   "cell_type": "code",
   "execution_count": null,
   "id": "a6acb16b-5ad6-4a7a-865c-bf5360462cad",
   "metadata": {
    "id": "a6acb16b-5ad6-4a7a-865c-bf5360462cad"
   },
   "outputs": [],
   "source": [
    "# Import other modules we need\n",
    "import numpy as np"
   ]
  },
  {
   "cell_type": "markdown",
   "id": "f83f6d94-1a9c-43f2-a983-11149d24d17a",
   "metadata": {
    "id": "f83f6d94-1a9c-43f2-a983-11149d24d17a"
   },
   "source": [
    "## Step 2: Define the circuit\n",
    "We will use a single compartment, called a \"Section\" (more on that in next lectures). <br>\n",
    "It has a cylindrical geometry with length \"L\" and a diameter \"diam\", and a specific capacitance \"cm\" (capacitance per area) <br>\n",
    "**Unit conversion is a common source of error, so we will be explicit with our units.** "
   ]
  },
  {
   "cell_type": "code",
   "execution_count": null,
   "id": "e13401c0-f98c-48fe-aa11-0e4f18b4f513",
   "metadata": {
    "id": "e13401c0-f98c-48fe-aa11-0e4f18b4f513"
   },
   "outputs": [],
   "source": [
    "soma = h.Section()"
   ]
  },
  {
   "cell_type": "markdown",
   "id": "4cb84590-4966-45f1-842c-a8c19ac215fe",
   "metadata": {
    "id": "4cb84590-4966-45f1-842c-a8c19ac215fe"
   },
   "source": [
    "### Query NEURON for the expected units for soma.L & soma.diam"
   ]
  },
  {
   "cell_type": "code",
   "execution_count": null,
   "id": "d95323fd-d419-4326-b303-20677d304524",
   "metadata": {
    "colab": {
     "base_uri": "https://localhost:8080/"
    },
    "id": "d95323fd-d419-4326-b303-20677d304524",
    "outputId": "9d337cd9-723d-4962-8dc6-2cbb7d2838e7"
   },
   "outputs": [],
   "source": [
    "[h.units(x) for x in [\"L\", \"diam\"]]"
   ]
  },
  {
   "cell_type": "code",
   "execution_count": null,
   "id": "6b2cd58a-2e4f-49e4-9b41-2dfb4ed41198",
   "metadata": {
    "id": "6b2cd58a-2e4f-49e4-9b41-2dfb4ed41198"
   },
   "outputs": [],
   "source": [
    "soma.L = 20 * um\n",
    "soma.diam =  20 * um"
   ]
  },
  {
   "cell_type": "code",
   "execution_count": null,
   "id": "3c083424-9925-4bdf-8682-c1679d5a0351",
   "metadata": {
    "id": "3c083424-9925-4bdf-8682-c1679d5a0351"
   },
   "outputs": [],
   "source": [
    "volume = soma(0.5).volume() * um**3"
   ]
  },
  {
   "cell_type": "code",
   "execution_count": null,
   "id": "b6f6bebf-b533-4e29-9c42-35bd34a09613",
   "metadata": {
    "id": "b6f6bebf-b533-4e29-9c42-35bd34a09613"
   },
   "outputs": [],
   "source": [
    "area = soma(0.5).area() * um**2"
   ]
  },
  {
   "cell_type": "code",
   "execution_count": null,
   "id": "68a0b25b-dfe1-4109-b91c-2cb53c60316f",
   "metadata": {},
   "outputs": [],
   "source": [
    "area"
   ]
  },
  {
   "cell_type": "code",
   "execution_count": null,
   "id": "3621dc76-877d-495b-a3fe-fe7eb1a80130",
   "metadata": {},
   "outputs": [],
   "source": [
    "volume"
   ]
  },
  {
   "cell_type": "markdown",
   "id": "5261a118-5c4f-4ed0-aa47-29567c762a0a",
   "metadata": {
    "id": "5261a118-5c4f-4ed0-aa47-29567c762a0a"
   },
   "source": [
    "### Assign the membrane capacitance \"everywhere\""
   ]
  },
  {
   "cell_type": "code",
   "execution_count": null,
   "id": "942d3d8d-2df4-497a-a13b-488ac2215f2b",
   "metadata": {
    "colab": {
     "base_uri": "https://localhost:8080/",
     "height": 36
    },
    "id": "942d3d8d-2df4-497a-a13b-488ac2215f2b",
    "outputId": "f2e2b485-d34f-4c68-d5a2-a16e506c7749"
   },
   "outputs": [],
   "source": [
    "h.units(\"cm\")  # Query the expected units"
   ]
  },
  {
   "cell_type": "code",
   "execution_count": null,
   "id": "2d63f42d-e209-4fdf-affc-025012ac32b9",
   "metadata": {},
   "outputs": [],
   "source": [
    "specific_membrane_capacitance = 1 * uF/cm**2"
   ]
  },
  {
   "cell_type": "code",
   "execution_count": null,
   "id": "e1234740-c1da-4d86-8381-235aa41080dc",
   "metadata": {
    "id": "e1234740-c1da-4d86-8381-235aa41080dc"
   },
   "outputs": [],
   "source": [
    "for sec in soma.wholetree():\n",
    "    sec.cm = specific_membrane_capacitance #  specific membrane capacitance (micro Farads / cm^2)\n",
    "    sec.Ra = 100"
   ]
  },
  {
   "cell_type": "markdown",
   "id": "320dddb4-2759-4e69-91fd-7c576b8dbee1",
   "metadata": {},
   "source": [
    "### Add transient Na+, delayed rectified K+, leak"
   ]
  },
  {
   "cell_type": "code",
   "execution_count": null,
   "id": "ba6e94c2-3945-49a3-a32b-c147bc101810",
   "metadata": {},
   "outputs": [],
   "source": [
    "# This model includes the transient Na+, persistent K+ and the leak conductances\n",
    "soma.insert(\"pas\")\n",
    "soma.insert(\"NaTg\")\n",
    "soma.insert(\"K_Pst\")"
   ]
  },
  {
   "cell_type": "code",
   "execution_count": null,
   "id": "b91266bc-839e-455d-9f69-c6d24e540dec",
   "metadata": {},
   "outputs": [],
   "source": [
    "h.celsius = 34"
   ]
  },
  {
   "cell_type": "code",
   "execution_count": null,
   "id": "18e74dbf-4234-4dd3-922e-cea1680555e7",
   "metadata": {},
   "outputs": [],
   "source": [
    "soma(0.5).K_Pst.gK_Pstbar = 0.2\n",
    "soma(0.5).NaTg.gNaTgbar = 0.42"
   ]
  },
  {
   "cell_type": "markdown",
   "id": "41cbfb41-b8ac-4469-b512-d7b98c2460a9",
   "metadata": {
    "id": "41cbfb41-b8ac-4469-b512-d7b98c2460a9",
    "tags": []
   },
   "source": [
    "### Parametize the leak conductance G = 1/R"
   ]
  },
  {
   "cell_type": "code",
   "execution_count": null,
   "id": "5bd5ad89-4b23-4588-81d2-d748348c13dc",
   "metadata": {
    "id": "5bd5ad89-4b23-4588-81d2-d748348c13dc"
   },
   "outputs": [],
   "source": [
    "G = 2.0 * nS  # R = 1/G in our RC circuit"
   ]
  },
  {
   "cell_type": "code",
   "execution_count": null,
   "id": "757fd83d-996f-4cd6-a0ad-c463031ce339",
   "metadata": {},
   "outputs": [],
   "source": [
    "v_rest = -70*mV"
   ]
  },
  {
   "cell_type": "code",
   "execution_count": null,
   "id": "d4ce4137-afc3-4d05-ba67-bcf1e054d654",
   "metadata": {},
   "outputs": [],
   "source": [
    "tau_m = (specific_membrane_capacitance * area / G).rescale(ms)"
   ]
  },
  {
   "cell_type": "code",
   "execution_count": null,
   "id": "09152bde-8285-4e7d-83e6-287d696d93e9",
   "metadata": {
    "id": "09152bde-8285-4e7d-83e6-287d696d93e9"
   },
   "outputs": [],
   "source": [
    "# Assign the leak conductance everywhere\n",
    "for seg in soma:\n",
    "    seg.pas.g = (G/area).rescale(S/cm**2)  # Compute specific conductance, and rescale to units of 'S/cm2'\n",
    "    seg.pas.e = -70.0"
   ]
  },
  {
   "cell_type": "code",
   "execution_count": null,
   "id": "2068aaf5-b25a-4ece-9ee0-bc96d0f01d39",
   "metadata": {},
   "outputs": [],
   "source": [
    "tau_m = ((soma(0.5).cm * uF/cm**2) / (soma(0.5).pas.g * S/cm**2)).rescale(ms)"
   ]
  },
  {
   "cell_type": "code",
   "execution_count": null,
   "id": "00bd7dfd-e9de-480b-afaa-7aaa192a219d",
   "metadata": {},
   "outputs": [],
   "source": [
    "tau_m"
   ]
  },
  {
   "cell_type": "markdown",
   "id": "11553f14-dbba-4e95-9d97-346899cf089a",
   "metadata": {},
   "source": [
    "### Inspect our parameters"
   ]
  },
  {
   "cell_type": "code",
   "execution_count": null,
   "id": "b2d8ca69-f309-44cb-87ca-b5b769c6424d",
   "metadata": {},
   "outputs": [],
   "source": [
    "soma.psection()"
   ]
  },
  {
   "cell_type": "code",
   "execution_count": null,
   "id": "58173033-3ece-4fcd-8b23-f56323fd66ec",
   "metadata": {},
   "outputs": [],
   "source": [
    "soma.nseg"
   ]
  },
  {
   "cell_type": "markdown",
   "id": "b85903a3-ac74-437f-91d9-1f284800cdb2",
   "metadata": {
    "id": "b85903a3-ac74-437f-91d9-1f284800cdb2"
   },
   "source": [
    "### Add a current injection"
   ]
  },
  {
   "cell_type": "code",
   "execution_count": null,
   "id": "ad8b318a-8299-4095-921c-07a2dc4f8683",
   "metadata": {
    "id": "ad8b318a-8299-4095-921c-07a2dc4f8683"
   },
   "outputs": [],
   "source": [
    "stim = h.IClamp(soma(0.5))"
   ]
  },
  {
   "cell_type": "code",
   "execution_count": null,
   "id": "c8597eb8-3230-4acd-a6e8-d6f7044eecd0",
   "metadata": {
    "id": "c8597eb8-3230-4acd-a6e8-d6f7044eecd0"
   },
   "outputs": [],
   "source": [
    "stim.delay = 200 * ms  # Inject current 500ms after the start of the simulation \n",
    "stim.dur = 600 * ms  # stop injecting current at 520ms \n",
    "stim.amp = 0.025 * nA  # Inject 0.1 nA of current"
   ]
  },
  {
   "cell_type": "markdown",
   "id": "559c8aaf-a94e-4fe6-bcba-bbb1ee619ce3",
   "metadata": {
    "id": "559c8aaf-a94e-4fe6-bcba-bbb1ee619ce3"
   },
   "source": [
    "## Step 3: Run the simulation"
   ]
  },
  {
   "cell_type": "markdown",
   "id": "8ab8d065-2a5b-4564-878f-21e0911aec40",
   "metadata": {
    "id": "8ab8d065-2a5b-4564-878f-21e0911aec40"
   },
   "source": [
    "### Define recordings of simulation variables"
   ]
  },
  {
   "cell_type": "code",
   "execution_count": null,
   "id": "3b38bec8-27dc-4e7c-9e92-fd130f2f2ac2",
   "metadata": {
    "id": "3b38bec8-27dc-4e7c-9e92-fd130f2f2ac2"
   },
   "outputs": [],
   "source": [
    "soma_v = h.Vector().record(soma(0.5)._ref_v)\n",
    "t = h.Vector().record(h._ref_t)"
   ]
  },
  {
   "cell_type": "markdown",
   "id": "48786568-f87b-42b2-abcd-8ac51d38b421",
   "metadata": {},
   "source": [
    "### Run the simulation"
   ]
  },
  {
   "cell_type": "code",
   "execution_count": null,
   "id": "74de7b71-7143-40f8-9cd0-ff171ea97f60",
   "metadata": {
    "colab": {
     "base_uri": "https://localhost:8080/"
    },
    "id": "74de7b71-7143-40f8-9cd0-ff171ea97f60",
    "outputId": "63b52271-a0ce-4835-c6a1-cffa68e85b1e"
   },
   "outputs": [],
   "source": [
    "h.finitialize( float(v_rest) )\n",
    "h.continuerun( float(1000 * ms) )"
   ]
  },
  {
   "cell_type": "markdown",
   "id": "3499dc95-65e2-4fef-8f7a-a93eb55765d2",
   "metadata": {
    "id": "3499dc95-65e2-4fef-8f7a-a93eb55765d2"
   },
   "source": [
    "## Step 4: Plot the results"
   ]
  },
  {
   "cell_type": "code",
   "execution_count": null,
   "id": "cb056f27-2003-4121-ad42-102a3113d844",
   "metadata": {
    "colab": {
     "base_uri": "https://localhost:8080/",
     "height": 328
    },
    "id": "cb056f27-2003-4121-ad42-102a3113d844",
    "outputId": "ee03cb22-343d-434a-b41f-f68819840294"
   },
   "outputs": [],
   "source": [
    "plt.plot(t, soma_v, lw=2, label=\"soma(0.5).v\")\n",
    "plt.legend(fontsize=12)\n",
    "plt.xlabel(\"t [ms]\", size=16)\n",
    "plt.ylabel(\"v [mV]\", size=16)\n",
    "plt.xticks(size=12)\n",
    "plt.yticks(size=12)\n",
    "#plt.axis([0,1000,-80,50])"
   ]
  },
  {
   "cell_type": "code",
   "execution_count": null,
   "id": "aae9ae67-f87a-480c-8b46-6dc8f3b0e583",
   "metadata": {},
   "outputs": [],
   "source": [
    "def find_spikes(v, t):\n",
    "    \"\"\" Returns times of spikes for a voltage trace and time grid\"\"\"\n",
    "    # look for upward crossing of 0mV\n",
    "    v_arr = np.array(v)\n",
    "    t_arr = np.array(t) \n",
    "    # This is tricky & powerful notation! Let's discuss in class!\n",
    "    return t_arr[1:][(v_arr[1:]>0) & (v_arr[:-1]<0)] "
   ]
  },
  {
   "cell_type": "code",
   "execution_count": null,
   "id": "fdc42b1f-f1ed-41df-9d76-0b8b23999800",
   "metadata": {
    "tags": []
   },
   "outputs": [],
   "source": [
    "I_range = np.arange(0,0.15,0.005)"
   ]
  },
  {
   "cell_type": "code",
   "execution_count": null,
   "id": "9bd39c90-8871-4c3b-a952-5b94d244d5e8",
   "metadata": {
    "tags": []
   },
   "outputs": [],
   "source": [
    "def find_freq(I):\n",
    "    stim.amp = I\n",
    "    h.finitialize( float(v_rest) )\n",
    "    h.continuerun( float(1000 * ms) )\n",
    "    spike_times = find_spikes(soma_v, t)\n",
    "    firing_freq = (len(spike_times)/(stim.dur*ms)).rescale(Hz)\n",
    "    return firing_freq"
   ]
  },
  {
   "cell_type": "code",
   "execution_count": null,
   "id": "b541fa70-98fe-47aa-b738-7caa4a4d8006",
   "metadata": {},
   "outputs": [],
   "source": [
    "# Note this cool notation: List comprehension\n",
    "freqs = [find_freq(x) for x in I_range]"
   ]
  },
  {
   "cell_type": "code",
   "execution_count": null,
   "id": "b5e06485-5d6d-4866-a77d-6af733bbb207",
   "metadata": {},
   "outputs": [],
   "source": [
    "plt.plot(I_range, freqs, 'x')\n",
    "#plt.axis([0.01, 0.02, 0, 100])"
   ]
  },
  {
   "cell_type": "code",
   "execution_count": null,
   "id": "5dc0f924-8b71-4170-aee9-051d01cb3e1d",
   "metadata": {},
   "outputs": [],
   "source": [
    "#soma.uninsert(\"K_Tst\")\n",
    "#soma(0.5).K_Tst.gK_Tstbar = 0.0"
   ]
  },
  {
   "cell_type": "markdown",
   "id": "6c74a101-4793-4549-88fc-42b9373f4cac",
   "metadata": {
    "tags": []
   },
   "source": [
    "## Adding calcium dynamics"
   ]
  },
  {
   "cell_type": "markdown",
   "id": "248b9a59-39e8-4ae0-bc4c-f6b6a437a70b",
   "metadata": {},
   "source": [
    "### 1) Add extrusion and buffering"
   ]
  },
  {
   "cell_type": "code",
   "execution_count": null,
   "id": "92abb61a-d1d8-41bc-b3f3-25aeeeef7fb4",
   "metadata": {},
   "outputs": [],
   "source": [
    "soma.insert(\"CaDynamics_DC0\")"
   ]
  },
  {
   "cell_type": "code",
   "execution_count": null,
   "id": "4ec9e84f-3cf7-4a64-a93b-8f633b0905e1",
   "metadata": {},
   "outputs": [],
   "source": [
    "soma(0.5).CaDynamics_DC0.decay = 100"
   ]
  },
  {
   "cell_type": "markdown",
   "id": "35a9624b-9e91-46ef-a62a-84eaf8ab4326",
   "metadata": {},
   "source": [
    "### Add the calcium channels"
   ]
  },
  {
   "cell_type": "code",
   "execution_count": null,
   "id": "4353a147-a14a-424b-ac20-bbad45e84af5",
   "metadata": {},
   "outputs": [],
   "source": [
    "soma.insert(\"Ca_HVA2\")"
   ]
  },
  {
   "cell_type": "code",
   "execution_count": null,
   "id": "9cac057b-6ba4-461f-b459-235a81bf46cb",
   "metadata": {},
   "outputs": [],
   "source": [
    "soma(0.5).Ca_HVA2.gCa_HVAbar = 0.005"
   ]
  },
  {
   "cell_type": "code",
   "execution_count": null,
   "id": "95e34fb5-b34a-4265-a826-c5edf55a2ac0",
   "metadata": {},
   "outputs": [],
   "source": [
    "#soma.insert(\"Ca_LVAst\")"
   ]
  },
  {
   "cell_type": "code",
   "execution_count": null,
   "id": "3b4b6548-34df-490c-b25f-785117e2d82b",
   "metadata": {},
   "outputs": [],
   "source": [
    "#soma(0.5).Ca_LVAst.gCa_LVAstbar = 0.0"
   ]
  },
  {
   "cell_type": "markdown",
   "id": "dbd3b70a-ce2a-42ca-b10b-4dbb6dc0ba47",
   "metadata": {},
   "source": [
    "### Insert an SK-type Ca2+ activated potassium channel"
   ]
  },
  {
   "cell_type": "code",
   "execution_count": null,
   "id": "8f5f0fc8-6b21-465f-b09d-a108c28aa518",
   "metadata": {},
   "outputs": [],
   "source": [
    "soma.insert(\"SK_E2\")"
   ]
  },
  {
   "cell_type": "code",
   "execution_count": null,
   "id": "07e2bc9f-d40d-49a7-821b-23b0b06a5c73",
   "metadata": {},
   "outputs": [],
   "source": [
    "soma(0.5).SK_E2.gSK_E2bar = 0.02"
   ]
  },
  {
   "cell_type": "markdown",
   "id": "9821809e-6464-417f-969d-6fb41987f8a5",
   "metadata": {},
   "source": [
    "### Record the calcium and SK conductance"
   ]
  },
  {
   "cell_type": "code",
   "execution_count": null,
   "id": "66561baf-2631-4acf-9918-611e0042a211",
   "metadata": {},
   "outputs": [],
   "source": [
    "cai = h.Vector().record(soma(0.5)._ref_cai)\n",
    "gske2 = h.Vector().record(soma(0.5).SK_E2._ref_gSK_E2 )"
   ]
  },
  {
   "cell_type": "code",
   "execution_count": null,
   "id": "fbb03cfa-553e-4e2b-9d7d-1310f691e6ef",
   "metadata": {},
   "outputs": [],
   "source": [
    "# Watch out for units\n",
    "h.units(\"cai\")"
   ]
  },
  {
   "cell_type": "code",
   "execution_count": null,
   "id": "447cfd48-6272-425e-a55d-9ad46a511a19",
   "metadata": {},
   "outputs": [],
   "source": [
    "stim.amp = 1.0 * nA  # Inject 0.1 nA of current"
   ]
  },
  {
   "cell_type": "code",
   "execution_count": null,
   "id": "28447197-36f9-42c2-b41c-eed4082c5d18",
   "metadata": {},
   "outputs": [],
   "source": [
    "h.finitialize( float(v_rest) )\n",
    "h.continuerun( float(1000 * ms) )"
   ]
  },
  {
   "cell_type": "code",
   "execution_count": null,
   "id": "6ac44562-69cb-442b-96e9-cca030bb09ee",
   "metadata": {},
   "outputs": [],
   "source": [
    "plt.plot(t, cai*1000, lw=2, label=\"soma(0.5).cai\")\n",
    "plt.legend(fontsize=12)\n",
    "plt.xlabel(\"t [ms]\", size=16)\n",
    "plt.ylabel(\"cai [uM]\", size=16)\n",
    "plt.xticks(size=12)\n",
    "plt.yticks(size=12)\n",
    "#plt.axis([100,200,-80,30])"
   ]
  },
  {
   "cell_type": "code",
   "execution_count": null,
   "id": "f33c1210-026e-47c5-a5f6-226c2120c922",
   "metadata": {},
   "outputs": [],
   "source": [
    "plt.plot(t, gske2, lw=2, label=\"soma(0.5).gSK_E2\")\n",
    "plt.legend(fontsize=12)\n",
    "plt.xlabel(\"t [ms]\", size=16)\n",
    "plt.ylabel(\"specific conductance [S/cm2]\", size=16)\n",
    "plt.xticks(size=12)\n",
    "plt.yticks(size=12)\n",
    "#plt.axis([100,200,-80,30])"
   ]
  },
  {
   "cell_type": "code",
   "execution_count": null,
   "id": "860939e6-d8f7-422f-aaa3-c908723ba285",
   "metadata": {},
   "outputs": [],
   "source": [
    "plt.plot(t, soma_v, lw=2, label=\"soma(0.5).v\")\n",
    "plt.legend(fontsize=12)\n",
    "plt.xlabel(\"t [ms]\", size=16)\n",
    "plt.ylabel(\"v [mV]\", size=16)\n",
    "plt.xticks(size=12)\n",
    "plt.yticks(size=12)\n",
    "plt.axis([100,500,-80,50])"
   ]
  },
  {
   "cell_type": "markdown",
   "id": "0d2aa499-7b55-4836-be51-7025190bf754",
   "metadata": {},
   "source": [
    "## Now it's your turn!"
   ]
  },
  {
   "cell_type": "markdown",
   "id": "1b5e4683-3c85-4691-93c1-de7d80e91efa",
   "metadata": {},
   "source": [
    "### **Question 1** \n",
    "Create a function to return the firing frequency as 1/inter-spike interval for a given current input I, and plot the firing frequency for a range of currents \n",
    "\n",
    "Now compare that firing frequencies computed from the 1st, 2nd or last inter-spike interval\n",
    "\n",
    "What is the role of the SK channel? What happens if it is blocked (g = 0)?\n",
    "\n"
   ]
  },
  {
   "cell_type": "code",
   "execution_count": null,
   "id": "e261c079-3d25-4d22-9da2-80cbabe0624b",
   "metadata": {},
   "outputs": [],
   "source": []
  }
 ],
 "metadata": {
  "colab": {
   "provenance": []
  },
  "kernelspec": {
   "display_name": "Python 3 (ipykernel)",
   "language": "python",
   "name": "python3"
  },
  "language_info": {
   "codemirror_mode": {
    "name": "ipython",
    "version": 3
   },
   "file_extension": ".py",
   "mimetype": "text/x-python",
   "name": "python",
   "nbconvert_exporter": "python",
   "pygments_lexer": "ipython3",
   "version": "3.10.12"
  }
 },
 "nbformat": 4,
 "nbformat_minor": 5
}
