{
 "cells": [
  {
   "cell_type": "markdown",
   "id": "2c4f1c51-1948-4fd3-af0f-34faefe9d27c",
   "metadata": {
    "id": "2c4f1c51-1948-4fd3-af0f-34faefe9d27c",
    "tags": []
   },
   "source": [
    "# A single-compartment neuron with Hodgkin & Huxley and transient K+ conductances\n"
   ]
  },
  {
   "cell_type": "markdown",
   "id": "91daf3d3-3137-4fdb-a3b1-9736f4496245",
   "metadata": {
    "id": "91daf3d3-3137-4fdb-a3b1-9736f4496245"
   },
   "source": [
    "## Step 1: Setup"
   ]
  },
  {
   "cell_type": "code",
   "execution_count": null,
   "id": "3f76960c-f05d-4c5d-bd70-88b79cb16cea",
   "metadata": {
    "id": "3f76960c-f05d-4c5d-bd70-88b79cb16cea"
   },
   "outputs": [],
   "source": [
    "# Setup inline plotting\n",
    "%matplotlib inline\n",
    "import matplotlib.pyplot as plt"
   ]
  },
  {
   "cell_type": "code",
   "execution_count": null,
   "id": "acdff546-3746-40aa-95f7-e21c4bd66a93",
   "metadata": {
    "colab": {
     "base_uri": "https://localhost:8080/"
    },
    "id": "acdff546-3746-40aa-95f7-e21c4bd66a93",
    "outputId": "4a06ae51-ff84-4a9e-b7a4-3c57ed109d59"
   },
   "outputs": [],
   "source": [
    "# For Google Colab, this line installs NEURON\n",
    "!pip install neuron quantities"
   ]
  },
  {
   "cell_type": "code",
   "execution_count": null,
   "id": "2c7c6c73-4bb6-4079-b9a5-59b79894815d",
   "metadata": {},
   "outputs": [],
   "source": [
    "# Fetch mechanisms\n",
    "# Uncomment this line if on google colab\n",
    "#!git clone https://github.com/ABL-Lab/NSC6084-A24.git"
   ]
  },
  {
   "cell_type": "code",
   "execution_count": null,
   "id": "77161639-d931-4cbd-88f5-2d17894e0821",
   "metadata": {},
   "outputs": [],
   "source": [
    "# Compile the mechanisms\n",
    "# Note: recompiled mechanisms will not take effect until neuron is imported or the jupyter kernel is restarted\n",
    "\n",
    "# Uncomment this line if on google colab\n",
    "#!nrnivmodl ./NSC6084-A24/Sept17/mechanisms\n",
    "# Uncomment this line if running locally\n",
    "!nrnivmodl ./mechanisms"
   ]
  },
  {
   "cell_type": "code",
   "execution_count": null,
   "id": "eb5e73d4-622b-46d7-be45-8e7e655ed086",
   "metadata": {
    "id": "eb5e73d4-622b-46d7-be45-8e7e655ed086"
   },
   "outputs": [],
   "source": [
    "# We will let this library handle unit conversion for us\n",
    "import quantities as pq\n",
    "from quantities import um, nS, mV, cm, ms, nA, S, uF, Hz, degrees, s"
   ]
  },
  {
   "cell_type": "code",
   "execution_count": null,
   "id": "35b8535f-89d4-4304-8bd1-9e0cd76eec37",
   "metadata": {
    "colab": {
     "base_uri": "https://localhost:8080/"
    },
    "id": "35b8535f-89d4-4304-8bd1-9e0cd76eec37",
    "outputId": "7c926f1f-835d-442a-9538-dbb1a81251fc"
   },
   "outputs": [],
   "source": [
    "# Import and initialize NEURON\n",
    "import neuron\n",
    "from neuron import h\n",
    "h.load_file(\"stdrun.hoc\")"
   ]
  },
  {
   "cell_type": "code",
   "execution_count": null,
   "id": "a6acb16b-5ad6-4a7a-865c-bf5360462cad",
   "metadata": {
    "id": "a6acb16b-5ad6-4a7a-865c-bf5360462cad"
   },
   "outputs": [],
   "source": [
    "# Import other modules we need\n",
    "import numpy as np"
   ]
  },
  {
   "cell_type": "markdown",
   "id": "f83f6d94-1a9c-43f2-a983-11149d24d17a",
   "metadata": {
    "id": "f83f6d94-1a9c-43f2-a983-11149d24d17a"
   },
   "source": [
    "## Step 2: Define the circuit\n",
    "We will use a single compartment, called a \"Section\" (more on that in next lectures). <br>\n",
    "It has a cylindrical geometry with length \"L\" and a diameter \"diam\", and a specific capacitance \"cm\" (capacitance per area) <br>\n",
    "**Unit conversion is a common source of error, so we will be explicit with our units.** "
   ]
  },
  {
   "cell_type": "code",
   "execution_count": null,
   "id": "e13401c0-f98c-48fe-aa11-0e4f18b4f513",
   "metadata": {
    "id": "e13401c0-f98c-48fe-aa11-0e4f18b4f513"
   },
   "outputs": [],
   "source": [
    "soma = h.Section()"
   ]
  },
  {
   "cell_type": "markdown",
   "id": "4cb84590-4966-45f1-842c-a8c19ac215fe",
   "metadata": {
    "id": "4cb84590-4966-45f1-842c-a8c19ac215fe"
   },
   "source": [
    "### Query NEURON for the expected units for soma.L & soma.diam"
   ]
  },
  {
   "cell_type": "code",
   "execution_count": null,
   "id": "d95323fd-d419-4326-b303-20677d304524",
   "metadata": {
    "colab": {
     "base_uri": "https://localhost:8080/"
    },
    "id": "d95323fd-d419-4326-b303-20677d304524",
    "outputId": "9d337cd9-723d-4962-8dc6-2cbb7d2838e7"
   },
   "outputs": [],
   "source": [
    "[h.units(x) for x in [\"L\", \"diam\"]]"
   ]
  },
  {
   "cell_type": "code",
   "execution_count": null,
   "id": "6b2cd58a-2e4f-49e4-9b41-2dfb4ed41198",
   "metadata": {
    "id": "6b2cd58a-2e4f-49e4-9b41-2dfb4ed41198"
   },
   "outputs": [],
   "source": [
    "soma.L = 10 * um\n",
    "soma.diam =  10 * um"
   ]
  },
  {
   "cell_type": "code",
   "execution_count": null,
   "id": "3c083424-9925-4bdf-8682-c1679d5a0351",
   "metadata": {
    "id": "3c083424-9925-4bdf-8682-c1679d5a0351"
   },
   "outputs": [],
   "source": [
    "volume = soma(0.5).volume() * um**3"
   ]
  },
  {
   "cell_type": "code",
   "execution_count": null,
   "id": "b6f6bebf-b533-4e29-9c42-35bd34a09613",
   "metadata": {
    "id": "b6f6bebf-b533-4e29-9c42-35bd34a09613"
   },
   "outputs": [],
   "source": [
    "area = soma(0.5).area() * um**2"
   ]
  },
  {
   "cell_type": "code",
   "execution_count": null,
   "id": "68a0b25b-dfe1-4109-b91c-2cb53c60316f",
   "metadata": {},
   "outputs": [],
   "source": [
    "area"
   ]
  },
  {
   "cell_type": "code",
   "execution_count": null,
   "id": "3621dc76-877d-495b-a3fe-fe7eb1a80130",
   "metadata": {},
   "outputs": [],
   "source": [
    "volume"
   ]
  },
  {
   "cell_type": "markdown",
   "id": "5261a118-5c4f-4ed0-aa47-29567c762a0a",
   "metadata": {
    "id": "5261a118-5c4f-4ed0-aa47-29567c762a0a"
   },
   "source": [
    "### Assign the membrane capacitance \"everywhere\""
   ]
  },
  {
   "cell_type": "code",
   "execution_count": null,
   "id": "942d3d8d-2df4-497a-a13b-488ac2215f2b",
   "metadata": {
    "colab": {
     "base_uri": "https://localhost:8080/",
     "height": 36
    },
    "id": "942d3d8d-2df4-497a-a13b-488ac2215f2b",
    "outputId": "f2e2b485-d34f-4c68-d5a2-a16e506c7749"
   },
   "outputs": [],
   "source": [
    "h.units(\"cm\")  # Query the expected units"
   ]
  },
  {
   "cell_type": "code",
   "execution_count": null,
   "id": "2d63f42d-e209-4fdf-affc-025012ac32b9",
   "metadata": {},
   "outputs": [],
   "source": [
    "specific_membrane_capacitance = 1 * uF/cm**2"
   ]
  },
  {
   "cell_type": "code",
   "execution_count": null,
   "id": "e1234740-c1da-4d86-8381-235aa41080dc",
   "metadata": {
    "id": "e1234740-c1da-4d86-8381-235aa41080dc"
   },
   "outputs": [],
   "source": [
    "for sec in soma.wholetree():\n",
    "    sec.cm = specific_membrane_capacitance #  specific membrane capacitance (micro Farads / cm^2)\n",
    "    sec.Ra = 100"
   ]
  },
  {
   "cell_type": "markdown",
   "id": "320dddb4-2759-4e69-91fd-7c576b8dbee1",
   "metadata": {},
   "source": [
    "### Add the Hodgkin-Huxley conductances"
   ]
  },
  {
   "cell_type": "code",
   "execution_count": null,
   "id": "ba6e94c2-3945-49a3-a32b-c147bc101810",
   "metadata": {},
   "outputs": [],
   "source": [
    "# This model includes the transient Na+, persistent K+ and the leak conductances\n",
    "soma.insert(\"hh\")"
   ]
  },
  {
   "cell_type": "markdown",
   "id": "4da6360e-3978-4f3e-82ff-beacf6553325",
   "metadata": {},
   "source": [
    "That's almost too easy!"
   ]
  },
  {
   "cell_type": "markdown",
   "id": "41cbfb41-b8ac-4469-b512-d7b98c2460a9",
   "metadata": {
    "id": "41cbfb41-b8ac-4469-b512-d7b98c2460a9",
    "tags": []
   },
   "source": [
    "### Parametize the leak conductance G = 1/R"
   ]
  },
  {
   "cell_type": "code",
   "execution_count": null,
   "id": "5bd5ad89-4b23-4588-81d2-d748348c13dc",
   "metadata": {
    "id": "5bd5ad89-4b23-4588-81d2-d748348c13dc"
   },
   "outputs": [],
   "source": [
    "G = 1 * nS  # R = 1/G in our RC circuit"
   ]
  },
  {
   "cell_type": "code",
   "execution_count": null,
   "id": "757fd83d-996f-4cd6-a0ad-c463031ce339",
   "metadata": {},
   "outputs": [],
   "source": [
    "v_rest = -70*mV"
   ]
  },
  {
   "cell_type": "code",
   "execution_count": null,
   "id": "2068aaf5-b25a-4ece-9ee0-bc96d0f01d39",
   "metadata": {},
   "outputs": [],
   "source": [
    "tau_m = soma(0.5).cm / soma(0.5).hh.gl"
   ]
  },
  {
   "cell_type": "code",
   "execution_count": null,
   "id": "d4ce4137-afc3-4d05-ba67-bcf1e054d654",
   "metadata": {},
   "outputs": [],
   "source": [
    "tau_m = (specific_membrane_capacitance * area / G).rescale(ms)"
   ]
  },
  {
   "cell_type": "code",
   "execution_count": null,
   "id": "00bd7dfd-e9de-480b-afaa-7aaa192a219d",
   "metadata": {},
   "outputs": [],
   "source": [
    "tau_m"
   ]
  },
  {
   "cell_type": "code",
   "execution_count": null,
   "id": "09152bde-8285-4e7d-83e6-287d696d93e9",
   "metadata": {
    "id": "09152bde-8285-4e7d-83e6-287d696d93e9"
   },
   "outputs": [],
   "source": [
    "# Assign the leak conductance everywhere\n",
    "for seg in soma:\n",
    "    seg.hh.gl = (G/area).rescale(S/cm**2)  # Compute specific conductance, and rescale to units of 'S/cm2'\n",
    "    seg.hh.el = -54.3"
   ]
  },
  {
   "cell_type": "markdown",
   "id": "11553f14-dbba-4e95-9d97-346899cf089a",
   "metadata": {},
   "source": [
    "### Inspect our parameters"
   ]
  },
  {
   "cell_type": "code",
   "execution_count": null,
   "id": "b2d8ca69-f309-44cb-87ca-b5b769c6424d",
   "metadata": {},
   "outputs": [],
   "source": [
    "soma.psection()"
   ]
  },
  {
   "cell_type": "code",
   "execution_count": null,
   "id": "58173033-3ece-4fcd-8b23-f56323fd66ec",
   "metadata": {},
   "outputs": [],
   "source": [
    "soma.nseg"
   ]
  },
  {
   "cell_type": "markdown",
   "id": "b85903a3-ac74-437f-91d9-1f284800cdb2",
   "metadata": {
    "id": "b85903a3-ac74-437f-91d9-1f284800cdb2"
   },
   "source": [
    "### Add a current injection"
   ]
  },
  {
   "cell_type": "code",
   "execution_count": null,
   "id": "ad8b318a-8299-4095-921c-07a2dc4f8683",
   "metadata": {
    "id": "ad8b318a-8299-4095-921c-07a2dc4f8683"
   },
   "outputs": [],
   "source": [
    "stim = h.IClamp(soma(0.5))"
   ]
  },
  {
   "cell_type": "code",
   "execution_count": null,
   "id": "c8597eb8-3230-4acd-a6e8-d6f7044eecd0",
   "metadata": {
    "id": "c8597eb8-3230-4acd-a6e8-d6f7044eecd0"
   },
   "outputs": [],
   "source": [
    "stim.delay = 200 * ms  # Inject current 500ms after the start of the simulation \n",
    "stim.dur = 600 * ms  # stop injecting current at 520ms \n",
    "stim.amp = 0.032 * nA  # Inject 0.1 nA of current"
   ]
  },
  {
   "cell_type": "markdown",
   "id": "559c8aaf-a94e-4fe6-bcba-bbb1ee619ce3",
   "metadata": {
    "id": "559c8aaf-a94e-4fe6-bcba-bbb1ee619ce3"
   },
   "source": [
    "## Step 3: Run the simulation"
   ]
  },
  {
   "cell_type": "markdown",
   "id": "8ab8d065-2a5b-4564-878f-21e0911aec40",
   "metadata": {
    "id": "8ab8d065-2a5b-4564-878f-21e0911aec40"
   },
   "source": [
    "### Define recordings of simulation variables"
   ]
  },
  {
   "cell_type": "code",
   "execution_count": null,
   "id": "3b38bec8-27dc-4e7c-9e92-fd130f2f2ac2",
   "metadata": {
    "id": "3b38bec8-27dc-4e7c-9e92-fd130f2f2ac2"
   },
   "outputs": [],
   "source": [
    "soma_v = h.Vector().record(soma(0.5)._ref_v)\n",
    "t = h.Vector().record(h._ref_t)"
   ]
  },
  {
   "cell_type": "code",
   "execution_count": null,
   "id": "5e7d9a95-a42d-4e6f-967f-2909cf13d4ab",
   "metadata": {},
   "outputs": [],
   "source": [
    "# Record hh gating variables\n",
    "hh_vars = ['h', 'm', 'n', 'gna', 'gk']\n",
    "hh_recordings = {}\n",
    "for var in hh_vars:\n",
    "    ref = getattr(soma(0.5).hh, \"_ref_\"+var )\n",
    "    hh_recordings[var] = h.Vector().record(ref) "
   ]
  },
  {
   "cell_type": "code",
   "execution_count": null,
   "id": "eb163c44-85d7-4317-9401-11dea1d9472e",
   "metadata": {},
   "outputs": [],
   "source": [
    "hh_recordings"
   ]
  },
  {
   "cell_type": "markdown",
   "id": "48786568-f87b-42b2-abcd-8ac51d38b421",
   "metadata": {},
   "source": [
    "### Run the simulation"
   ]
  },
  {
   "cell_type": "code",
   "execution_count": null,
   "id": "74de7b71-7143-40f8-9cd0-ff171ea97f60",
   "metadata": {
    "colab": {
     "base_uri": "https://localhost:8080/"
    },
    "id": "74de7b71-7143-40f8-9cd0-ff171ea97f60",
    "outputId": "63b52271-a0ce-4835-c6a1-cffa68e85b1e"
   },
   "outputs": [],
   "source": [
    "h.finitialize( float(v_rest) )\n",
    "h.continuerun( float(1000 * ms) )"
   ]
  },
  {
   "cell_type": "markdown",
   "id": "3499dc95-65e2-4fef-8f7a-a93eb55765d2",
   "metadata": {
    "id": "3499dc95-65e2-4fef-8f7a-a93eb55765d2"
   },
   "source": [
    "## Step 4: Plot the results"
   ]
  },
  {
   "cell_type": "code",
   "execution_count": null,
   "id": "cb056f27-2003-4121-ad42-102a3113d844",
   "metadata": {
    "colab": {
     "base_uri": "https://localhost:8080/",
     "height": 328
    },
    "id": "cb056f27-2003-4121-ad42-102a3113d844",
    "outputId": "ee03cb22-343d-434a-b41f-f68819840294"
   },
   "outputs": [],
   "source": [
    "plt.plot(t, soma_v, lw=2, label=\"soma(0.5).v\")\n",
    "plt.legend(fontsize=12)\n",
    "plt.xlabel(\"t [ms]\", size=16)\n",
    "plt.ylabel(\"v [mV]\", size=16)\n",
    "plt.xticks(size=12)\n",
    "plt.yticks(size=12)\n",
    "plt.axis([0,1000,-80,30])"
   ]
  },
  {
   "cell_type": "code",
   "execution_count": null,
   "id": "e5aa4b70-5c8d-4388-8d0d-f2fa47967c72",
   "metadata": {},
   "outputs": [],
   "source": [
    "plt.plot(t, hh_recordings['m'], lw=2, label=\"m\")\n",
    "plt.plot(t, hh_recordings['h'], lw=2, label=\"h\")\n",
    "plt.plot(t, hh_recordings['n'], lw=2, label=\"n\")\n",
    "plt.legend(fontsize=12)\n",
    "plt.xlabel(\"t [ms]\", size=16)\n",
    "plt.ylabel(\"fraction\", size=16)\n",
    "plt.xticks(size=12)\n",
    "plt.yticks(size=12)\n",
    "plt.axis([195,220,0,1])"
   ]
  },
  {
   "cell_type": "code",
   "execution_count": null,
   "id": "e958c42d-d40d-43c7-ab9c-2738cba29758",
   "metadata": {},
   "outputs": [],
   "source": [
    "plt.plot(t, hh_recordings['gna'], lw=2, label=\"gna\")\n",
    "plt.plot(t, hh_recordings['gk'], lw=2, label=\"gk\")\n",
    "plt.legend(fontsize=12)\n",
    "plt.xlabel(\"t [ms]\", size=16)\n",
    "plt.ylabel(\"fraction\", size=16)\n",
    "plt.xticks(size=12)\n",
    "plt.yticks(size=12)\n",
    "plt.axis([195,220,0, 0.05])"
   ]
  },
  {
   "cell_type": "code",
   "execution_count": null,
   "id": "82d7463f-5c78-4050-9164-d23fe31574f2",
   "metadata": {},
   "outputs": [],
   "source": [
    "def find_spikes(v, t):\n",
    "    \"\"\" Returns times of spikes for a voltage trace and time grid\"\"\"\n",
    "    \n",
    "    # look for upward crossing of 0mV\n",
    "    v_arr = np.array(v)\n",
    "    t_arr = np.array(t) \n",
    "    # This is tricky & powerful notation! Let's discuss in class!\n",
    "    return t_arr[1:][(v_arr[1:]>0) & (v_arr[:-1]<0)] "
   ]
  },
  {
   "cell_type": "code",
   "execution_count": null,
   "id": "96e29c9d-f1e2-4f59-9f80-719b8ed166e1",
   "metadata": {},
   "outputs": [],
   "source": [
    "spike_times = find_spikes(soma_v, t)"
   ]
  },
  {
   "cell_type": "code",
   "execution_count": null,
   "id": "e92c17ce-1ef2-478c-af03-84f65b1c2b39",
   "metadata": {},
   "outputs": [],
   "source": [
    "spike_times, len(spike_times)"
   ]
  },
  {
   "cell_type": "code",
   "execution_count": null,
   "id": "1cc6a23d-2e51-4ede-b558-79f25eef7e52",
   "metadata": {},
   "outputs": [],
   "source": [
    "firing_freq = (len(spike_times)/(stim.dur*ms)).rescale(Hz)"
   ]
  },
  {
   "cell_type": "code",
   "execution_count": null,
   "id": "e1cc5d6c-9aa8-44c6-b40d-bf9f15433116",
   "metadata": {},
   "outputs": [],
   "source": [
    "firing_freq"
   ]
  },
  {
   "cell_type": "code",
   "execution_count": null,
   "id": "c453eb45-5063-4b23-b9db-358670312281",
   "metadata": {
    "colab": {
     "base_uri": "https://localhost:8080/",
     "height": 328
    },
    "id": "cb056f27-2003-4121-ad42-102a3113d844",
    "outputId": "ee03cb22-343d-434a-b41f-f68819840294"
   },
   "outputs": [],
   "source": [
    "plt.plot(t, soma_v, lw=2, label=\"soma(0.5).v\")\n",
    "plt.plot(spike_times, len(spike_times)*[0], 'r.')\n",
    "plt.legend(fontsize=12)\n",
    "plt.xlabel(\"t [ms]\", size=16)\n",
    "plt.ylabel(\"v [mV]\", size=16)\n",
    "plt.xticks(size=12)\n",
    "plt.yticks(size=12)\n",
    "plt.axis([200,400,-80,30])"
   ]
  },
  {
   "cell_type": "markdown",
   "id": "0d2aa499-7b55-4836-be51-7025190bf754",
   "metadata": {},
   "source": [
    "## Now it's your turn!"
   ]
  },
  {
   "cell_type": "markdown",
   "id": "1b5e4683-3c85-4691-93c1-de7d80e91efa",
   "metadata": {},
   "source": [
    "### **Question 1** \n",
    "Create a function to return the firing frequency for a given current input I, and plot the firing frequency for a range of currents from 0 to 0.1 nA (e.g. steps of 0.001 nA)\n",
    "\n"
   ]
  },
  {
   "cell_type": "code",
   "execution_count": null,
   "id": "f2905b83-9030-4a74-a0ef-18dbbd0d5b50",
   "metadata": {},
   "outputs": [],
   "source": [
    "I_range = np.arange(0,0.1,0.001)"
   ]
  },
  {
   "cell_type": "code",
   "execution_count": null,
   "id": "56d8f18e-09c7-4d70-81cd-9e88f08ffb8f",
   "metadata": {},
   "outputs": [],
   "source": [
    "def find_freq(I):\n",
    "    stim.amp = I\n",
    "    h.finitialize( float(v_rest) )\n",
    "    h.continuerun( float(1000 * ms) )\n",
    "    spike_times = find_spikes(soma_v, t)\n",
    "    firing_freq = (len(spike_times[spike_times>200])/(stim.dur*ms)).rescale(Hz)\n",
    "    return firing_freq"
   ]
  },
  {
   "cell_type": "code",
   "execution_count": null,
   "id": "bff628e5-91cb-44e1-8e59-9034295d3b30",
   "metadata": {},
   "outputs": [],
   "source": [
    "# Note this cool notation: List comprehension\n",
    "freqs = [find_freq(x) for x in I_range]"
   ]
  },
  {
   "cell_type": "code",
   "execution_count": null,
   "id": "02230d79-85eb-4601-91f6-7cda75b4101d",
   "metadata": {},
   "outputs": [],
   "source": [
    "plt.plot(I_range, freqs, 'x')\n",
    "#plt.axis([0.01, 0.02, 0, 100])"
   ]
  },
  {
   "cell_type": "code",
   "execution_count": null,
   "id": "e261c079-3d25-4d22-9da2-80cbabe0624b",
   "metadata": {},
   "outputs": [],
   "source": [
    "#soma.insert(\"K_Tst\")\n",
    "#soma(0.5).K_Tst.gK_Tstbar = 0.1*0.477"
   ]
  },
  {
   "cell_type": "code",
   "execution_count": null,
   "id": "d58327cd-d87e-4d6c-a579-ff14ebd185cd",
   "metadata": {},
   "outputs": [],
   "source": [
    "soma.insert(\"Kv4_2_0016\")\n",
    "soma(0.5).Kv4_2_0016.gKv4_2bar = 0.1*0.8\n",
    "h.celsius = 6.3"
   ]
  },
  {
   "cell_type": "code",
   "execution_count": null,
   "id": "1004954c-20f9-496a-bc6c-19c7ac23973a",
   "metadata": {},
   "outputs": [],
   "source": [
    "soma(0.5).Kv4_2_0016.q10 = 3.0"
   ]
  },
  {
   "cell_type": "code",
   "execution_count": null,
   "id": "771847b8-5073-48f6-a90c-6c31a9746410",
   "metadata": {},
   "outputs": [],
   "source": [
    "#soma(0.5).K_Tst.gK_Tstbar = 0\n",
    "#soma(0.5).hh.gkbar = 0.036\n",
    "#soma(0.5).Kv4_2_0016.gKv4_2bar = 0"
   ]
  },
  {
   "cell_type": "code",
   "execution_count": null,
   "id": "f1ea2ca4-edba-4a93-bc17-1af0dfe5e711",
   "metadata": {},
   "outputs": [],
   "source": [
    "# Note this cool notation: List comprehension\n",
    "freqs = [find_freq(x) for x in I_range]"
   ]
  },
  {
   "cell_type": "code",
   "execution_count": null,
   "id": "7292f4c2-af54-4d19-92ca-ba074c2b9167",
   "metadata": {},
   "outputs": [],
   "source": [
    "plt.plot(I_range, freqs, 'x')\n",
    "#plt.axis([0.01, 0.02, 0, 100])"
   ]
  },
  {
   "cell_type": "code",
   "execution_count": null,
   "id": "f97e14f3-3a17-4a79-a409-e7c4b75ac5e3",
   "metadata": {},
   "outputs": [],
   "source": [
    "soma.psection()"
   ]
  },
  {
   "cell_type": "code",
   "execution_count": null,
   "id": "77cd5f76-e2bf-4267-b3bb-6005fa068763",
   "metadata": {},
   "outputs": [],
   "source": []
  }
 ],
 "metadata": {
  "colab": {
   "provenance": []
  },
  "kernelspec": {
   "display_name": "Python 3 (ipykernel)",
   "language": "python",
   "name": "python3"
  },
  "language_info": {
   "codemirror_mode": {
    "name": "ipython",
    "version": 3
   },
   "file_extension": ".py",
   "mimetype": "text/x-python",
   "name": "python",
   "nbconvert_exporter": "python",
   "pygments_lexer": "ipython3",
   "version": "3.10.12"
  }
 },
 "nbformat": 4,
 "nbformat_minor": 5
}
