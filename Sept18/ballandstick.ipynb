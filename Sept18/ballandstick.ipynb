{
 "cells": [
  {
   "cell_type": "markdown",
   "id": "2c4f1c51-1948-4fd3-af0f-34faefe9d27c",
   "metadata": {
    "id": "2c4f1c51-1948-4fd3-af0f-34faefe9d27c",
    "tags": []
   },
   "source": [
    "# \"Ball and Stick\" - Soma with Hodgkin & Huxley conductances and passive dendrite\n",
    "\n",
    " "
   ]
  },
  {
   "cell_type": "markdown",
   "id": "91daf3d3-3137-4fdb-a3b1-9736f4496245",
   "metadata": {
    "id": "91daf3d3-3137-4fdb-a3b1-9736f4496245"
   },
   "source": [
    "## Step 1: Setup"
   ]
  },
  {
   "cell_type": "code",
   "execution_count": null,
   "id": "3f76960c-f05d-4c5d-bd70-88b79cb16cea",
   "metadata": {
    "id": "3f76960c-f05d-4c5d-bd70-88b79cb16cea"
   },
   "outputs": [],
   "source": [
    "# Setup inline plotting\n",
    "%matplotlib inline\n",
    "import matplotlib.pyplot as plt"
   ]
  },
  {
   "cell_type": "code",
   "execution_count": null,
   "id": "acdff546-3746-40aa-95f7-e21c4bd66a93",
   "metadata": {
    "colab": {
     "base_uri": "https://localhost:8080/"
    },
    "id": "acdff546-3746-40aa-95f7-e21c4bd66a93",
    "outputId": "4a06ae51-ff84-4a9e-b7a4-3c57ed109d59"
   },
   "outputs": [],
   "source": [
    "# For Google Colab, this line installs NEURON\n",
    "#!pip install neuron quantities"
   ]
  },
  {
   "cell_type": "code",
   "execution_count": null,
   "id": "eb5e73d4-622b-46d7-be45-8e7e655ed086",
   "metadata": {
    "id": "eb5e73d4-622b-46d7-be45-8e7e655ed086"
   },
   "outputs": [],
   "source": [
    "# We will let this library handle unit conversion for us\n",
    "import quantities as pq\n",
    "from quantities import um, nS, mV, cm, ms, nA, S, uF, Hz, degrees, s, MOhm, mS, mm, Ohm"
   ]
  },
  {
   "cell_type": "code",
   "execution_count": null,
   "id": "35b8535f-89d4-4304-8bd1-9e0cd76eec37",
   "metadata": {
    "colab": {
     "base_uri": "https://localhost:8080/"
    },
    "id": "35b8535f-89d4-4304-8bd1-9e0cd76eec37",
    "outputId": "7c926f1f-835d-442a-9538-dbb1a81251fc"
   },
   "outputs": [],
   "source": [
    "# Import and initialize NEURON\n",
    "import neuron\n",
    "from neuron import h\n",
    "h.load_file(\"stdrun.hoc\")\n",
    "#h.load_file(\"stdlib.hoc\") # need geom_nseg"
   ]
  },
  {
   "cell_type": "code",
   "execution_count": null,
   "id": "a6acb16b-5ad6-4a7a-865c-bf5360462cad",
   "metadata": {
    "id": "a6acb16b-5ad6-4a7a-865c-bf5360462cad"
   },
   "outputs": [],
   "source": [
    "# Import other modules we need\n",
    "import numpy as np"
   ]
  },
  {
   "cell_type": "markdown",
   "id": "f83f6d94-1a9c-43f2-a983-11149d24d17a",
   "metadata": {
    "id": "f83f6d94-1a9c-43f2-a983-11149d24d17a"
   },
   "source": [
    "## Step 2: Define the circuit\n"
   ]
  },
  {
   "cell_type": "code",
   "execution_count": null,
   "id": "e13401c0-f98c-48fe-aa11-0e4f18b4f513",
   "metadata": {
    "id": "e13401c0-f98c-48fe-aa11-0e4f18b4f513"
   },
   "outputs": [],
   "source": [
    "# A standard soma\n",
    "soma = h.Section(name=\"soma\")\n",
    "soma.L = soma.diam = 12.6157 #um"
   ]
  },
  {
   "cell_type": "code",
   "execution_count": null,
   "id": "a31bb777-000a-44c5-bdae-4dea2248ed82",
   "metadata": {},
   "outputs": [],
   "source": [
    "# Add a dendrite\n",
    "dend = h.Section(name=\"dend\")\n",
    "dend.L = 500\n",
    "dend.diam = 1"
   ]
  },
  {
   "cell_type": "code",
   "execution_count": null,
   "id": "0c525a32-df01-4e19-ba02-d4c18e5cc1e0",
   "metadata": {},
   "outputs": [],
   "source": [
    "dend.connect(soma(1.0),0.0)"
   ]
  },
  {
   "cell_type": "code",
   "execution_count": null,
   "id": "c994e69f-9328-4253-8acf-1b7fe0f177d2",
   "metadata": {},
   "outputs": [],
   "source": [
    "for x in soma.wholetree():\n",
    "    print(x)"
   ]
  },
  {
   "cell_type": "code",
   "execution_count": null,
   "id": "52ee09d6-dc10-4339-befd-266420b3ec76",
   "metadata": {},
   "outputs": [],
   "source": [
    "print(soma)"
   ]
  },
  {
   "cell_type": "markdown",
   "id": "4cb84590-4966-45f1-842c-a8c19ac215fe",
   "metadata": {
    "id": "4cb84590-4966-45f1-842c-a8c19ac215fe"
   },
   "source": [
    "### Query NEURON for the expected units for soma.L & soma.diam"
   ]
  },
  {
   "cell_type": "code",
   "execution_count": null,
   "id": "3c083424-9925-4bdf-8682-c1679d5a0351",
   "metadata": {
    "id": "3c083424-9925-4bdf-8682-c1679d5a0351"
   },
   "outputs": [],
   "source": [
    "volume = soma(0.5).volume() * um**3"
   ]
  },
  {
   "cell_type": "code",
   "execution_count": null,
   "id": "b6f6bebf-b533-4e29-9c42-35bd34a09613",
   "metadata": {
    "id": "b6f6bebf-b533-4e29-9c42-35bd34a09613"
   },
   "outputs": [],
   "source": [
    "area = soma(0.5).area() * um**2"
   ]
  },
  {
   "cell_type": "code",
   "execution_count": null,
   "id": "68a0b25b-dfe1-4109-b91c-2cb53c60316f",
   "metadata": {},
   "outputs": [],
   "source": [
    "area"
   ]
  },
  {
   "cell_type": "code",
   "execution_count": null,
   "id": "3621dc76-877d-495b-a3fe-fe7eb1a80130",
   "metadata": {},
   "outputs": [],
   "source": [
    "volume"
   ]
  },
  {
   "cell_type": "markdown",
   "id": "5261a118-5c4f-4ed0-aa47-29567c762a0a",
   "metadata": {
    "id": "5261a118-5c4f-4ed0-aa47-29567c762a0a"
   },
   "source": [
    "### Assign the membrane capacitance and resistivity \"everywhere\""
   ]
  },
  {
   "cell_type": "code",
   "execution_count": null,
   "id": "942d3d8d-2df4-497a-a13b-488ac2215f2b",
   "metadata": {
    "colab": {
     "base_uri": "https://localhost:8080/",
     "height": 36
    },
    "id": "942d3d8d-2df4-497a-a13b-488ac2215f2b",
    "outputId": "f2e2b485-d34f-4c68-d5a2-a16e506c7749"
   },
   "outputs": [],
   "source": [
    "h.units(\"cm\")  # Query the expected units"
   ]
  },
  {
   "cell_type": "code",
   "execution_count": null,
   "id": "a361f35a-9c25-49d2-b8d7-89eb9b3dd672",
   "metadata": {},
   "outputs": [],
   "source": [
    "h.units(\"Ra\")"
   ]
  },
  {
   "cell_type": "code",
   "execution_count": null,
   "id": "2d63f42d-e209-4fdf-affc-025012ac32b9",
   "metadata": {},
   "outputs": [],
   "source": [
    "specific_membrane_capacitance = 1 * uF/cm**2"
   ]
  },
  {
   "cell_type": "code",
   "execution_count": null,
   "id": "e1234740-c1da-4d86-8381-235aa41080dc",
   "metadata": {
    "id": "e1234740-c1da-4d86-8381-235aa41080dc"
   },
   "outputs": [],
   "source": [
    "for sec in soma.wholetree():\n",
    "    sec.cm = specific_membrane_capacitance #  specific membrane capacitance (micro Farads / cm^2)\n",
    "    sec.Ra = 100 * Ohm*cm # resistivity "
   ]
  },
  {
   "cell_type": "markdown",
   "id": "320dddb4-2759-4e69-91fd-7c576b8dbee1",
   "metadata": {},
   "source": [
    "### Add the Hodgkin-Huxley conductances"
   ]
  },
  {
   "cell_type": "code",
   "execution_count": null,
   "id": "ba6e94c2-3945-49a3-a32b-c147bc101810",
   "metadata": {},
   "outputs": [],
   "source": [
    "# This model includes the transient Na+, persistent K+ and the leak conductances\n",
    "soma.insert(\"hh\")"
   ]
  },
  {
   "cell_type": "markdown",
   "id": "4da6360e-3978-4f3e-82ff-beacf6553325",
   "metadata": {},
   "source": [
    "That's almost too easy!"
   ]
  },
  {
   "cell_type": "markdown",
   "id": "41cbfb41-b8ac-4469-b512-d7b98c2460a9",
   "metadata": {
    "id": "41cbfb41-b8ac-4469-b512-d7b98c2460a9",
    "tags": []
   },
   "source": [
    "### Parametize the leak conductance G = 1/R"
   ]
  },
  {
   "cell_type": "code",
   "execution_count": null,
   "id": "5bd5ad89-4b23-4588-81d2-d748348c13dc",
   "metadata": {
    "id": "5bd5ad89-4b23-4588-81d2-d748348c13dc"
   },
   "outputs": [],
   "source": [
    "G = 1.5 * nS  # R = 1/G in our RC circuit"
   ]
  },
  {
   "cell_type": "code",
   "execution_count": null,
   "id": "757fd83d-996f-4cd6-a0ad-c463031ce339",
   "metadata": {},
   "outputs": [],
   "source": [
    "v_rest = -65*mV"
   ]
  },
  {
   "cell_type": "code",
   "execution_count": null,
   "id": "81835a74-1d10-42d9-b3b9-68e632c84afd",
   "metadata": {},
   "outputs": [],
   "source": [
    "(G/area).rescale(S/cm**2)"
   ]
  },
  {
   "cell_type": "code",
   "execution_count": null,
   "id": "09152bde-8285-4e7d-83e6-287d696d93e9",
   "metadata": {
    "id": "09152bde-8285-4e7d-83e6-287d696d93e9"
   },
   "outputs": [],
   "source": [
    "# Assign the leak conductance everywhere in soma\n",
    "for seg in soma:\n",
    "    seg.hh.gl = (G/area).rescale(S/cm**2)  # Compute specific conductance, and rescale to units of 'S/cm2'\n",
    "    seg.hh.el = -54.3"
   ]
  },
  {
   "cell_type": "code",
   "execution_count": null,
   "id": "86f08d82-23d5-4d38-a191-09fcaef35277",
   "metadata": {},
   "outputs": [],
   "source": [
    "# Insert passive conductance in dendrite\n",
    "dend.insert(\"pas\")\n",
    "# Assign parameters everywhere in the dendrite\n",
    "for seg in dend:\n",
    "    seg.pas.g = 0.001  # Passive conductance in S/cm2\n",
    "    seg.pas.e = v_rest  # Leak reversal potential mV"
   ]
  },
  {
   "cell_type": "code",
   "execution_count": null,
   "id": "5c10799b-11fd-4e4c-8e67-b7680f77a7f7",
   "metadata": {},
   "outputs": [],
   "source": [
    "dend.nseg"
   ]
  },
  {
   "cell_type": "markdown",
   "id": "7b2bc318-888c-46bf-9eea-b21f8150fc02",
   "metadata": {},
   "source": [
    "For extended sections, this idiom configures a sensible number of compartments per section (nseg) based on radii and $R_\\lambda$<br>\n",
    "See: https://nrn.readthedocs.io/en/latest/guide/using_the_d_lambda_rule.html"
   ]
  },
  {
   "cell_type": "code",
   "execution_count": null,
   "id": "264bf67b-8d7d-4aeb-a931-2968c2a62e3b",
   "metadata": {},
   "outputs": [],
   "source": [
    "for sec in [dend]:\n",
    "    sec.nseg = int((sec.L/(0.1*h.lambda_f(100))+.9)/2)*2 + 1"
   ]
  },
  {
   "cell_type": "code",
   "execution_count": null,
   "id": "96f8e0b4",
   "metadata": {},
   "outputs": [],
   "source": [
    "dend.nseg"
   ]
  },
  {
   "cell_type": "code",
   "execution_count": null,
   "id": "d143aa1a-1611-42d4-a8af-80fe29a41d2e",
   "metadata": {},
   "outputs": [],
   "source": [
    "dend.nseg = 10"
   ]
  },
  {
   "cell_type": "code",
   "execution_count": null,
   "id": "6ac0b4e4-51ad-4d80-8709-a59a5601d5f0",
   "metadata": {},
   "outputs": [],
   "source": [
    "for seg in dend:\n",
    "    print(seg)"
   ]
  },
  {
   "cell_type": "code",
   "execution_count": null,
   "id": "0bbb2cae-733e-4ec9-bcdf-d8d668391330",
   "metadata": {},
   "outputs": [],
   "source": [
    "type(seg)"
   ]
  },
  {
   "cell_type": "code",
   "execution_count": null,
   "id": "2acf822b-da26-4c90-a2c6-e39a5bb0dd07",
   "metadata": {},
   "outputs": [],
   "source": [
    "dend.wholetree()"
   ]
  },
  {
   "cell_type": "code",
   "execution_count": null,
   "id": "2362c548-5cd6-47d3-b44c-574cd973d4b7",
   "metadata": {},
   "outputs": [],
   "source": [
    "#dend.nseg = 1 (come back later to try this out)"
   ]
  },
  {
   "cell_type": "markdown",
   "id": "b85903a3-ac74-437f-91d9-1f284800cdb2",
   "metadata": {
    "id": "b85903a3-ac74-437f-91d9-1f284800cdb2"
   },
   "source": [
    "### Add soma current pulse"
   ]
  },
  {
   "cell_type": "code",
   "execution_count": null,
   "id": "ad8b318a-8299-4095-921c-07a2dc4f8683",
   "metadata": {
    "id": "ad8b318a-8299-4095-921c-07a2dc4f8683"
   },
   "outputs": [],
   "source": [
    "stim = h.IClamp(soma(0.5))"
   ]
  },
  {
   "cell_type": "code",
   "execution_count": null,
   "id": "c8597eb8-3230-4acd-a6e8-d6f7044eecd0",
   "metadata": {
    "id": "c8597eb8-3230-4acd-a6e8-d6f7044eecd0"
   },
   "outputs": [],
   "source": [
    "stim.delay = 200 * ms\n",
    "stim.dur = 1 * ms  \n",
    "stim.amp = 0.05 * nA"
   ]
  },
  {
   "cell_type": "markdown",
   "id": "559c8aaf-a94e-4fe6-bcba-bbb1ee619ce3",
   "metadata": {
    "id": "559c8aaf-a94e-4fe6-bcba-bbb1ee619ce3"
   },
   "source": [
    "## Step 3: Run the simulation"
   ]
  },
  {
   "cell_type": "markdown",
   "id": "8ab8d065-2a5b-4564-878f-21e0911aec40",
   "metadata": {
    "id": "8ab8d065-2a5b-4564-878f-21e0911aec40"
   },
   "source": [
    "### Define recordings of simulation variables"
   ]
  },
  {
   "cell_type": "code",
   "execution_count": null,
   "id": "3b38bec8-27dc-4e7c-9e92-fd130f2f2ac2",
   "metadata": {
    "id": "3b38bec8-27dc-4e7c-9e92-fd130f2f2ac2"
   },
   "outputs": [],
   "source": [
    "soma_v = h.Vector().record(soma(0.5)._ref_v)\n",
    "t = h.Vector().record(h._ref_t)"
   ]
  },
  {
   "cell_type": "code",
   "execution_count": null,
   "id": "1e421c09-9e16-44eb-99ff-8ca8b5966171",
   "metadata": {},
   "outputs": [],
   "source": [
    "recording_locations = np.linspace(0,1.0,11)"
   ]
  },
  {
   "cell_type": "code",
   "execution_count": null,
   "id": "fc10fc68-dae3-454d-857f-c593a07a4ec0",
   "metadata": {},
   "outputs": [],
   "source": [
    "recording_locations"
   ]
  },
  {
   "cell_type": "code",
   "execution_count": null,
   "id": "9f77e235-8228-49ca-849f-82cc82880f82",
   "metadata": {},
   "outputs": [],
   "source": [
    "dend_recs = [h.Vector().record(dend(x)._ref_v) for x in recording_locations]"
   ]
  },
  {
   "cell_type": "code",
   "execution_count": null,
   "id": "085ab51c-22d5-4447-befb-78848de2b8ac",
   "metadata": {},
   "outputs": [],
   "source": [
    "dend_labels = [\"dend(%.1f).v\" % f for f in recording_locations]"
   ]
  },
  {
   "cell_type": "code",
   "execution_count": null,
   "id": "f2b294d6-126f-43c7-9a96-41da6628bb04",
   "metadata": {},
   "outputs": [],
   "source": [
    "dend_labels"
   ]
  },
  {
   "cell_type": "code",
   "execution_count": null,
   "id": "b75bcf4c-21ef-43b1-99bc-b3c1a73dd991",
   "metadata": {},
   "outputs": [],
   "source": [
    "h.finitialize( float(v_rest) )\n",
    "h.continuerun( float(1000 * ms) )"
   ]
  },
  {
   "cell_type": "markdown",
   "id": "3499dc95-65e2-4fef-8f7a-a93eb55765d2",
   "metadata": {
    "id": "3499dc95-65e2-4fef-8f7a-a93eb55765d2"
   },
   "source": [
    "## Step 4: Plot the results"
   ]
  },
  {
   "cell_type": "code",
   "execution_count": null,
   "id": "cb056f27-2003-4121-ad42-102a3113d844",
   "metadata": {
    "colab": {
     "base_uri": "https://localhost:8080/",
     "height": 328
    },
    "id": "cb056f27-2003-4121-ad42-102a3113d844",
    "outputId": "ee03cb22-343d-434a-b41f-f68819840294"
   },
   "outputs": [],
   "source": [
    "fig = plt.figure(figsize = (10,10))\n",
    "axes = fig.subplots(2, 1)\n",
    "# assign which subplot for each trace\n",
    "# The first goes to first subplot, the rest to the second\n",
    "axes2 = [axes[0]] + len(dend_recs)*[axes[1]]\n",
    "recs = [soma_v] + dend_recs\n",
    "labels = [\"soma(0.5).v\"] + dend_labels\n",
    "for i in range(len(labels)):\n",
    "    axes2[i].plot(t, recs[i], lw=2, label=labels[i])\n",
    "    axes2[i].legend()\n",
    "    axes2[i].set_xlabel(\"t [ms]\", size=16)\n",
    "    axes2[i].set_ylabel(\"v [mV]\", size=16)\n",
    "    axes2[i].axis([190, 220, -65.5, -60])"
   ]
  },
  {
   "cell_type": "code",
   "execution_count": null,
   "id": "e261c079-3d25-4d22-9da2-80cbabe0624b",
   "metadata": {},
   "outputs": [],
   "source": [
    "# That was \"passive\" stimulation.\n",
    "# Now what about an AP?\n",
    "stim.amp = 0.3 * nA"
   ]
  },
  {
   "cell_type": "code",
   "execution_count": null,
   "id": "6c0c2135-7b6e-4f0d-b2ea-f48baf51a72c",
   "metadata": {},
   "outputs": [],
   "source": [
    "h.finitialize( float(v_rest) )\n",
    "h.continuerun( float(1000 * ms) )"
   ]
  },
  {
   "cell_type": "code",
   "execution_count": null,
   "id": "b4eeb139-d160-46c4-a716-20abb3dfbdc8",
   "metadata": {
    "colab": {
     "base_uri": "https://localhost:8080/",
     "height": 328
    },
    "id": "cb056f27-2003-4121-ad42-102a3113d844",
    "outputId": "ee03cb22-343d-434a-b41f-f68819840294"
   },
   "outputs": [],
   "source": [
    "fig = plt.figure(figsize = (10,10))\n",
    "axes = fig.subplots(2, 1)\n",
    "# assign which subplot for each trace\n",
    "# The first goes to first subplot, the rest to the second\n",
    "axes2 = [axes[0]] + len(dend_recs)*[axes[1]]\n",
    "recs = [soma_v] + dend_recs\n",
    "labels = [\"soma(0.5).v\"] + dend_labels\n",
    "for i in range(len(labels)):\n",
    "    axes2[i].plot(t, recs[i], lw=2, label=labels[i])\n",
    "    axes2[i].legend()\n",
    "    axes2[i].set_xlabel(\"t [ms]\", size=16)\n",
    "    axes2[i].set_ylabel(\"v [mV]\", size=16)\n",
    "    axes2[i].axis([190, 220, -80, 50])"
   ]
  },
  {
   "cell_type": "markdown",
   "id": "aedee182-4ed5-44dd-b8ed-a78090b7848e",
   "metadata": {},
   "source": [
    "Because the dendrite is passive, the AP attenuates significantly along it."
   ]
  },
  {
   "cell_type": "markdown",
   "id": "9675d043-ef7f-4642-a155-875d6e0204ba",
   "metadata": {},
   "source": [
    "## Try what would happen if dend.nseg = 1!\n",
    "It makes a big difference! What's going on? Consider: Can the voltage attenuate if there is only 1 isopotential compartment?"
   ]
  },
  {
   "cell_type": "code",
   "execution_count": null,
   "id": "6d7987e1-4d62-4a9c-9ec3-db7ea2d948c4",
   "metadata": {},
   "outputs": [],
   "source": []
  }
 ],
 "metadata": {
  "colab": {
   "provenance": []
  },
  "kernelspec": {
   "display_name": "dev-09-2025-py312",
   "language": "python",
   "name": "python3"
  },
  "language_info": {
   "codemirror_mode": {
    "name": "ipython",
    "version": 3
   },
   "file_extension": ".py",
   "mimetype": "text/x-python",
   "name": "python",
   "nbconvert_exporter": "python",
   "pygments_lexer": "ipython3",
   "version": "3.12.11"
  }
 },
 "nbformat": 4,
 "nbformat_minor": 5
}
